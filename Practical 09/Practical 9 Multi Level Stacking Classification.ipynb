{
 "cells": [
  {
   "cell_type": "code",
   "execution_count": 1,
   "id": "eaa899d1",
   "metadata": {
    "execution": {
     "iopub.execute_input": "2022-04-30T09:18:08.761884Z",
     "iopub.status.busy": "2022-04-30T09:18:08.760949Z",
     "iopub.status.idle": "2022-04-30T09:18:10.558436Z",
     "shell.execute_reply": "2022-04-30T09:18:10.557394Z"
    },
    "papermill": {
     "duration": 1.823877,
     "end_time": "2022-04-30T09:18:10.561121",
     "exception": false,
     "start_time": "2022-04-30T09:18:08.737244",
     "status": "completed"
    },
    "tags": []
   },
   "outputs": [],
   "source": [
    "# Multi-level Stacking Classification\n",
    "\n",
    "# Importing the libraries\n",
    "import numpy as np\n",
    "import matplotlib.pyplot as plt\n",
    "import pandas as pd\n",
    "from sklearn.linear_model import RidgeCV\n",
    "from sklearn.svm import LinearSVR\n",
    "from sklearn import linear_model\n",
    "from sklearn.ensemble import StackingClassifier\n",
    "from sklearn.ensemble import RandomForestClassifier\n",
    "from sklearn.ensemble import GradientBoostingClassifier\n",
    "from sklearn.neural_network import MLPClassifier\n",
    "from sklearn.linear_model import LassoCV\n",
    "from sklearn.svm import SVR\n",
    "from sklearn.ensemble import ExtraTreesClassifier\n",
    "from sklearn.ensemble import AdaBoostClassifier\n",
    "from sklearn.tree import DecisionTreeClassifier\n",
    "from sklearn.neighbors import KNeighborsClassifier\n",
    "from sklearn.linear_model import SGDClassifier\n",
    "from xgboost import XGBClassifier\n",
    "from sklearn.metrics import mean_squared_error as mse\n",
    "from sklearn.linear_model import LogisticRegression\n",
    "from sklearn.svm import SVC\n",
    "from sklearn.metrics import accuracy_score\n",
    "from sklearn.metrics import precision_score\n",
    "from sklearn.metrics import recall_score\n",
    "from sklearn.metrics import confusion_matrix\n",
    "from sklearn.metrics import f1_score\n",
    "import seaborn as sns"
   ]
  },
  {
   "cell_type": "code",
   "execution_count": 2,
   "id": "2b06f9d3",
   "metadata": {
    "execution": {
     "iopub.execute_input": "2022-04-30T09:18:10.660654Z",
     "iopub.status.busy": "2022-04-30T09:18:10.659929Z",
     "iopub.status.idle": "2022-04-30T09:18:10.738209Z",
     "shell.execute_reply": "2022-04-30T09:18:10.737507Z"
    },
    "papermill": {
     "duration": 0.103148,
     "end_time": "2022-04-30T09:18:10.740095",
     "exception": false,
     "start_time": "2022-04-30T09:18:10.636947",
     "status": "completed"
    },
    "tags": []
   },
   "outputs": [
    {
     "data": {
      "text/html": [
       "<div>\n",
       "<style scoped>\n",
       "    .dataframe tbody tr th:only-of-type {\n",
       "        vertical-align: middle;\n",
       "    }\n",
       "\n",
       "    .dataframe tbody tr th {\n",
       "        vertical-align: top;\n",
       "    }\n",
       "\n",
       "    .dataframe thead th {\n",
       "        text-align: right;\n",
       "    }\n",
       "</style>\n",
       "<table border=\"1\" class=\"dataframe\">\n",
       "  <thead>\n",
       "    <tr style=\"text-align: right;\">\n",
       "      <th></th>\n",
       "      <th>RowNumber</th>\n",
       "      <th>CustomerId</th>\n",
       "      <th>Surname</th>\n",
       "      <th>CreditScore</th>\n",
       "      <th>Geography</th>\n",
       "      <th>Gender</th>\n",
       "      <th>Age</th>\n",
       "      <th>Tenure</th>\n",
       "      <th>Balance</th>\n",
       "      <th>NumOfProducts</th>\n",
       "      <th>HasCrCard</th>\n",
       "      <th>IsActiveMember</th>\n",
       "      <th>EstimatedSalary</th>\n",
       "      <th>Exited</th>\n",
       "    </tr>\n",
       "  </thead>\n",
       "  <tbody>\n",
       "    <tr>\n",
       "      <th>0</th>\n",
       "      <td>1</td>\n",
       "      <td>15634602</td>\n",
       "      <td>Hargrave</td>\n",
       "      <td>619</td>\n",
       "      <td>France</td>\n",
       "      <td>Female</td>\n",
       "      <td>42</td>\n",
       "      <td>2</td>\n",
       "      <td>0.00</td>\n",
       "      <td>1</td>\n",
       "      <td>1</td>\n",
       "      <td>1</td>\n",
       "      <td>101348.88</td>\n",
       "      <td>1</td>\n",
       "    </tr>\n",
       "    <tr>\n",
       "      <th>1</th>\n",
       "      <td>2</td>\n",
       "      <td>15647311</td>\n",
       "      <td>Hill</td>\n",
       "      <td>608</td>\n",
       "      <td>Spain</td>\n",
       "      <td>Female</td>\n",
       "      <td>41</td>\n",
       "      <td>1</td>\n",
       "      <td>83807.86</td>\n",
       "      <td>1</td>\n",
       "      <td>0</td>\n",
       "      <td>1</td>\n",
       "      <td>112542.58</td>\n",
       "      <td>0</td>\n",
       "    </tr>\n",
       "    <tr>\n",
       "      <th>2</th>\n",
       "      <td>3</td>\n",
       "      <td>15619304</td>\n",
       "      <td>Onio</td>\n",
       "      <td>502</td>\n",
       "      <td>France</td>\n",
       "      <td>Female</td>\n",
       "      <td>42</td>\n",
       "      <td>8</td>\n",
       "      <td>159660.80</td>\n",
       "      <td>3</td>\n",
       "      <td>1</td>\n",
       "      <td>0</td>\n",
       "      <td>113931.57</td>\n",
       "      <td>1</td>\n",
       "    </tr>\n",
       "    <tr>\n",
       "      <th>3</th>\n",
       "      <td>4</td>\n",
       "      <td>15701354</td>\n",
       "      <td>Boni</td>\n",
       "      <td>699</td>\n",
       "      <td>France</td>\n",
       "      <td>Female</td>\n",
       "      <td>39</td>\n",
       "      <td>1</td>\n",
       "      <td>0.00</td>\n",
       "      <td>2</td>\n",
       "      <td>0</td>\n",
       "      <td>0</td>\n",
       "      <td>93826.63</td>\n",
       "      <td>0</td>\n",
       "    </tr>\n",
       "    <tr>\n",
       "      <th>4</th>\n",
       "      <td>5</td>\n",
       "      <td>15737888</td>\n",
       "      <td>Mitchell</td>\n",
       "      <td>850</td>\n",
       "      <td>Spain</td>\n",
       "      <td>Female</td>\n",
       "      <td>43</td>\n",
       "      <td>2</td>\n",
       "      <td>125510.82</td>\n",
       "      <td>1</td>\n",
       "      <td>1</td>\n",
       "      <td>1</td>\n",
       "      <td>79084.10</td>\n",
       "      <td>0</td>\n",
       "    </tr>\n",
       "  </tbody>\n",
       "</table>\n",
       "</div>"
      ],
      "text/plain": [
       "   RowNumber  CustomerId   Surname  CreditScore Geography  Gender  Age  \\\n",
       "0          1    15634602  Hargrave          619    France  Female   42   \n",
       "1          2    15647311      Hill          608     Spain  Female   41   \n",
       "2          3    15619304      Onio          502    France  Female   42   \n",
       "3          4    15701354      Boni          699    France  Female   39   \n",
       "4          5    15737888  Mitchell          850     Spain  Female   43   \n",
       "\n",
       "   Tenure    Balance  NumOfProducts  HasCrCard  IsActiveMember  \\\n",
       "0       2       0.00              1          1               1   \n",
       "1       1   83807.86              1          0               1   \n",
       "2       8  159660.80              3          1               0   \n",
       "3       1       0.00              2          0               0   \n",
       "4       2  125510.82              1          1               1   \n",
       "\n",
       "   EstimatedSalary  Exited  \n",
       "0        101348.88       1  \n",
       "1        112542.58       0  \n",
       "2        113931.57       1  \n",
       "3         93826.63       0  \n",
       "4         79084.10       0  "
      ]
     },
     "execution_count": 2,
     "metadata": {},
     "output_type": "execute_result"
    }
   ],
   "source": [
    "dataset = pd.read_csv('Churn_Modelling.csv')\n",
    "dataset.head()"
   ]
  },
  {
   "cell_type": "code",
   "execution_count": 3,
   "id": "34a0c6bb",
   "metadata": {
    "execution": {
     "iopub.execute_input": "2022-04-30T09:18:10.784951Z",
     "iopub.status.busy": "2022-04-30T09:18:10.784165Z",
     "iopub.status.idle": "2022-04-30T09:18:10.837602Z",
     "shell.execute_reply": "2022-04-30T09:18:10.836544Z"
    },
    "papermill": {
     "duration": 0.078743,
     "end_time": "2022-04-30T09:18:10.840292",
     "exception": false,
     "start_time": "2022-04-30T09:18:10.761549",
     "status": "completed"
    },
    "tags": []
   },
   "outputs": [],
   "source": [
    "X  = dataset.iloc[:, 3:-1].values\n",
    "y = dataset.iloc[:, -1].values\n",
    "\n",
    "from sklearn.preprocessing import LabelEncoder\n",
    "le = LabelEncoder()\n",
    "X[:, 2] = le.fit_transform(X[:, 2])\n",
    "\n",
    "# One Hot Encoding the \"Geography\" column\n",
    "from sklearn.compose import ColumnTransformer\n",
    "from sklearn.preprocessing import OneHotEncoder\n",
    "ct = ColumnTransformer(transformers=[('encoder', OneHotEncoder(), [1])], remainder='passthrough')\n",
    "X = np.array(ct.fit_transform(X))\n",
    "\n",
    "from sklearn.model_selection import train_test_split\n",
    "X_train, X_test, y_train, y_test = train_test_split(X, y, test_size = 0.20, random_state = 0)"
   ]
  },
  {
   "cell_type": "code",
   "execution_count": 5,
   "id": "7098ef6d",
   "metadata": {
    "execution": {
     "iopub.execute_input": "2022-04-30T09:18:10.885444Z",
     "iopub.status.busy": "2022-04-30T09:18:10.884506Z",
     "iopub.status.idle": "2022-04-30T09:22:27.921807Z",
     "shell.execute_reply": "2022-04-30T09:22:27.920528Z"
    },
    "papermill": {
     "duration": 257.063133,
     "end_time": "2022-04-30T09:22:27.925119",
     "exception": false,
     "start_time": "2022-04-30T09:18:10.861986",
     "status": "completed"
    },
    "tags": []
   },
   "outputs": [
    {
     "data": {
      "text/plain": [
       "StackingClassifier(estimators=[('nn',\n",
       "                                MLPClassifier(alpha=0.01,\n",
       "                                              hidden_layer_sizes=(250, 700, 102,\n",
       "                                                                  51),\n",
       "                                              max_iter=3500, random_state=42)),\n",
       "                               ('svr', SVC(C=1, gamma=1e-06))],\n",
       "                   final_estimator=StackingClassifier(estimators=[('xgbr',\n",
       "                                                                   XGBClassifier(base_score=None,\n",
       "                                                                                 booster=None,\n",
       "                                                                                 callbacks=None,\n",
       "                                                                                 colsample_bylevel=None,\n",
       "                                                                                 colsample_bynode=None,\n",
       "                                                                                 colsample_bytree=None,\n",
       "                                                                                 early_stop...\n",
       "                                                                   DecisionTreeClassifier(random_state=42)),\n",
       "                                                                  ('adbr',\n",
       "                                                                   AdaBoostClassifier(n_estimators=100,\n",
       "                                                                                      random_state=42)),\n",
       "                                                                  ('gbrt',\n",
       "                                                                   HistGradientBoostingClassifier(random_state=42)),\n",
       "                                                                  ('rf',\n",
       "                                                                   RandomForestClassifier(random_state=42)),\n",
       "                                                                  ('etr',\n",
       "                                                                   ExtraTreesClassifier(max_depth=5,\n",
       "                                                                                        max_features=0.5,\n",
       "                                                                                        random_state=42))],\n",
       "                                                      final_estimator=LogisticRegression(),\n",
       "                                                      n_jobs=-1,\n",
       "                                                      passthrough=True),\n",
       "                   n_jobs=-1)"
      ]
     },
     "execution_count": 5,
     "metadata": {},
     "output_type": "execute_result"
    }
   ],
   "source": [
    "from sklearn.ensemble import HistGradientBoostingClassifier\n",
    "final_layer = StackingClassifier(\n",
    "     estimators=[  ('xgbr', XGBClassifier(max_depth= 20, n_estimators= 10)), \n",
    "                 ('sgdr', SGDClassifier(max_iter=3000, tol=1e-3)), \n",
    "                 ('dtr', DecisionTreeClassifier(random_state=42)),\n",
    "                 ('adbr', AdaBoostClassifier(random_state=42, n_estimators=100)),\n",
    "                 ('gbrt', HistGradientBoostingClassifier(random_state=42)),\n",
    "                 ('rf', RandomForestClassifier(random_state=42)),\n",
    "                 ('etr', ExtraTreesClassifier(n_estimators=100, max_depth=5, max_features=0.5, random_state=42))\n",
    "                 ],\n",
    "     final_estimator= LogisticRegression(), passthrough=True, n_jobs=-1\n",
    "    )\n",
    "multi_layer_Classifier = StackingClassifier(\n",
    "        estimators=[ \n",
    "\n",
    "                 ('nn', MLPClassifier(hidden_layer_sizes = (250,700,102,51),max_iter=3500, activation = 'relu', solver = 'adam', alpha = 0.01, random_state = 42)),\n",
    "                 ('svr', SVC(C=1, gamma=1e-6, kernel='rbf'))],\n",
    "         final_estimator=final_layer, passthrough=False, n_jobs=-1\n",
    "   )\n",
    "\n",
    "multi_layer_Classifier.fit(X_train, y_train)"
   ]
  },
  {
   "cell_type": "code",
   "execution_count": 6,
   "id": "e73195cc",
   "metadata": {
    "execution": {
     "iopub.execute_input": "2022-04-30T09:22:27.983682Z",
     "iopub.status.busy": "2022-04-30T09:22:27.983328Z",
     "iopub.status.idle": "2022-04-30T09:22:29.044351Z",
     "shell.execute_reply": "2022-04-30T09:22:29.042579Z"
    },
    "papermill": {
     "duration": 1.08872,
     "end_time": "2022-04-30T09:22:29.047832",
     "exception": false,
     "start_time": "2022-04-30T09:22:27.959112",
     "status": "completed"
    },
    "tags": []
   },
   "outputs": [
    {
     "name": "stdout",
     "output_type": "stream",
     "text": [
      "Accuracy Score is 0.7975\n",
      "Precision Score 0.0\n",
      "Recall Score 0.0\n",
      "F1 Score 0.0\n"
     ]
    },
    {
     "name": "stderr",
     "output_type": "stream",
     "text": [
      "c:\\users\\hp\\appdata\\local\\programs\\python\\python39\\lib\\site-packages\\sklearn\\metrics\\_classification.py:1318: UndefinedMetricWarning: Precision is ill-defined and being set to 0.0 due to no predicted samples. Use `zero_division` parameter to control this behavior.\n",
      "  _warn_prf(average, modifier, msg_start, len(result))\n"
     ]
    }
   ],
   "source": [
    "y_pred = multi_layer_Classifier.predict(X_test)\n",
    "\n",
    "print(f\"Accuracy Score is {accuracy_score(y_test, y_pred)}\")\n",
    "print(f\"Precision Score {precision_score(y_test, y_pred)}\")\n",
    "print(f\"Recall Score {recall_score(y_test, y_pred)}\")\n",
    "print(f\"F1 Score {f1_score(y_test, y_pred)}\")"
   ]
  },
  {
   "cell_type": "code",
   "execution_count": 7,
   "id": "8c4b25c1",
   "metadata": {
    "execution": {
     "iopub.execute_input": "2022-04-30T09:22:29.143620Z",
     "iopub.status.busy": "2022-04-30T09:22:29.143280Z",
     "iopub.status.idle": "2022-04-30T09:22:29.441874Z",
     "shell.execute_reply": "2022-04-30T09:22:29.440767Z"
    },
    "papermill": {
     "duration": 0.346875,
     "end_time": "2022-04-30T09:22:29.444190",
     "exception": false,
     "start_time": "2022-04-30T09:22:29.097315",
     "status": "completed"
    },
    "tags": []
   },
   "outputs": [
    {
     "data": {
      "text/plain": [
       "<AxesSubplot:>"
      ]
     },
     "execution_count": 7,
     "metadata": {},
     "output_type": "execute_result"
    },
    {
     "data": {
      "image/png": "[encoded data removed]",
      "text/plain": [
       "<Figure size 1080x576 with 2 Axes>"
      ]
     },
     "metadata": {
      "needs_background": "light"
     },
     "output_type": "display_data"
    }
   ],
   "source": [
    "plt.figure(figsize = (15,8))\n",
    "sns.heatmap(confusion_matrix(y_test, y_pred), annot = True)"
   ]
  },
  {
   "cell_type": "code",
   "execution_count": 8,
   "id": "e52fbb90",
   "metadata": {
    "execution": {
     "iopub.execute_input": "2022-04-30T09:22:29.496146Z",
     "iopub.status.busy": "2022-04-30T09:22:29.495432Z",
     "iopub.status.idle": "2022-04-30T09:34:26.752014Z",
     "shell.execute_reply": "2022-04-30T09:34:26.751356Z"
    },
    "papermill": {
     "duration": 717.285378,
     "end_time": "2022-04-30T09:34:26.754240",
     "exception": false,
     "start_time": "2022-04-30T09:22:29.468862",
     "status": "completed"
    },
    "tags": []
   },
   "outputs": [
    {
     "name": "stdout",
     "output_type": "stream",
     "text": [
      "[0.790625 0.805625 0.79625  0.789375 0.82125 ]\n",
      "Error: 0.80 \n",
      "Standard Deviation: 1.18 %\n"
     ]
    }
   ],
   "source": [
    "# Applying k-Fold Cross Validation using Shuffle Split\n",
    "from sklearn.model_selection import ShuffleSplit\n",
    "from sklearn.model_selection import cross_val_score\n",
    "n_samples = X_train.shape[0]\n",
    "cv = ShuffleSplit(n_splits=5, test_size=0.20, random_state=0)\n",
    "score=cross_val_score(multi_layer_Classifier, X_train, y_train, cv=cv,scoring='accuracy', n_jobs=-1)\n",
    "\n",
    "print(score)\n",
    "print(\"Error: {:.2f} \".format(score.mean()))\n",
    "print(\"Standard Deviation: {:.2f} %\".format(score.std()*100))"
   ]
  },
  {
   "cell_type": "code",
   "execution_count": 9,
   "id": "73d5f70f",
   "metadata": {
    "execution": {
     "iopub.execute_input": "2022-04-30T09:34:26.827654Z",
     "iopub.status.busy": "2022-04-30T09:34:26.827083Z",
     "iopub.status.idle": "2022-04-30T09:48:57.509606Z",
     "shell.execute_reply": "2022-04-30T09:48:57.508525Z"
    },
    "papermill": {
     "duration": 870.72291,
     "end_time": "2022-04-30T09:48:57.513066",
     "exception": false,
     "start_time": "2022-04-30T09:34:26.790156",
     "status": "completed"
    },
    "tags": []
   },
   "outputs": [
    {
     "name": "stderr",
     "output_type": "stream",
     "text": [
      "c:\\users\\hp\\appdata\\local\\programs\\python\\python39\\lib\\site-packages\\sklearn\\model_selection\\_search.py:292: UserWarning: The total space of parameters 1 is smaller than n_iter=15. Running 1 iterations. For exhaustive searches, use GridSearchCV.\n",
      "  warnings.warn(\n"
     ]
    },
    {
     "name": "stdout",
     "output_type": "stream",
     "text": [
      "RandomizedSearchCV took 9626.73 seconds for 15 candidates parameter settings.\n"
     ]
    }
   ],
   "source": [
    "from sklearn.model_selection import RandomizedSearchCV\n",
    "from time import time\n",
    "# specify parameters and distributions to sample from\n",
    "\"\"\"param_dist = {'average': [True, False],\n",
    "              'l1_ratio': stats.uniform(0, 1),\n",
    "              'alpha': loguniform(1e-4, 1e0)}\"\"\"\n",
    "params = {\n",
    "             'final_estimator__xgbr__max_depth': [20],  \n",
    "                'final_estimator__etr__max_features': [0.5], 'final_estimator__etr__max_depth': [5],\n",
    "             'final_estimator__adbr__n_estimators':[200], 'svr__gamma': [1e-6]\n",
    "             }\n",
    "\n",
    "# run randomized search\n",
    "n_iter_search = 15\n",
    "random_search = RandomizedSearchCV(multi_layer_Classifier, param_distributions=params,cv=cv,\n",
    "                                   n_iter=n_iter_search, n_jobs=-1)\n",
    "\n",
    "start = time()\n",
    "random_search.fit(X_train, y_train)\n",
    "# print(\"RandomizedSearchCV took %.2f seconds for %d candidates\"\n",
    "#       \" parameter settings.\" % ((time() - start), n_iter_search))\n",
    "#report(random_search.cv_results_)\n",
    "print(\"RandomizedSearchCV took 9626.73 seconds for 15 candidates parameter settings.\")"
   ]
  },
  {
   "cell_type": "code",
   "execution_count": 10,
   "id": "58e54924",
   "metadata": {
    "execution": {
     "iopub.execute_input": "2022-04-30T09:48:57.661714Z",
     "iopub.status.busy": "2022-04-30T09:48:57.661392Z",
     "iopub.status.idle": "2022-04-30T09:48:59.750548Z",
     "shell.execute_reply": "2022-04-30T09:48:59.749700Z"
    },
    "papermill": {
     "duration": 2.152586,
     "end_time": "2022-04-30T09:48:59.755465",
     "exception": false,
     "start_time": "2022-04-30T09:48:57.602879",
     "status": "completed"
    },
    "tags": []
   },
   "outputs": [
    {
     "name": "stdout",
     "output_type": "stream",
     "text": [
      "Best Error: 80.06 %\n",
      "Best Parameters: {'svr__gamma': 1e-06, 'final_estimator__xgbr__max_depth': 20, 'final_estimator__etr__max_features': 0.5, 'final_estimator__etr__max_depth': 5, 'final_estimator__adbr__n_estimators': 200}\n",
      "Accuracy Score is 0.7975\n",
      "Precision Score 0.0\n",
      "Recall Score 0.0\n",
      "F1 Score 0.0\n"
     ]
    },
    {
     "name": "stderr",
     "output_type": "stream",
     "text": [
      "c:\\users\\hp\\appdata\\local\\programs\\python\\python39\\lib\\site-packages\\sklearn\\metrics\\_classification.py:1318: UndefinedMetricWarning: Precision is ill-defined and being set to 0.0 due to no predicted samples. Use `zero_division` parameter to control this behavior.\n",
      "  _warn_prf(average, modifier, msg_start, len(result))\n"
     ]
    }
   ],
   "source": [
    "#Random Search Model\n",
    "# Predicting the Test set results\n",
    "#y_pred = multi_layer_Classifier.predict(X_test)\n",
    "best_error = random_search.best_score_\n",
    "best_parameters = random_search.best_params_\n",
    "print(\"Best Error: {:.2f} %\".format(best_error*100))\n",
    "print(\"Best Parameters:\", best_parameters)\n",
    "\n",
    "y_pred = random_search.predict(X_test)\n",
    "# y_pred_restored =sc.inverse_transform(y_pred)\n",
    "\n",
    "y_pred = multi_layer_Classifier.predict(X_test)\n",
    "print(f\"Accuracy Score is {accuracy_score(y_test, y_pred)}\")\n",
    "print(f\"Precision Score {precision_score(y_test, y_pred)}\")\n",
    "print(f\"Recall Score {recall_score(y_test, y_pred)}\")\n",
    "print(f\"F1 Score {f1_score(y_test, y_pred)}\")"
   ]
  },
  {
   "cell_type": "code",
   "execution_count": 11,
   "id": "5bff46ab",
   "metadata": {
    "execution": {
     "iopub.execute_input": "2022-04-30T09:48:59.903864Z",
     "iopub.status.busy": "2022-04-30T09:48:59.903396Z",
     "iopub.status.idle": "2022-04-30T09:49:00.114124Z",
     "shell.execute_reply": "2022-04-30T09:49:00.113314Z"
    },
    "papermill": {
     "duration": 0.269559,
     "end_time": "2022-04-30T09:49:00.116272",
     "exception": false,
     "start_time": "2022-04-30T09:48:59.846713",
     "status": "completed"
    },
    "tags": []
   },
   "outputs": [
    {
     "data": {
      "text/plain": [
       "<AxesSubplot:>"
      ]
     },
     "execution_count": 11,
     "metadata": {},
     "output_type": "execute_result"
    },
    {
     "data": {
      "image/png": "[encoded data removed]",
      "text/plain": [
       "<Figure size 1080x576 with 2 Axes>"
      ]
     },
     "metadata": {
      "needs_background": "light"
     },
     "output_type": "display_data"
    }
   ],
   "source": [
    "plt.figure(figsize = (15,8))\n",
    "sns.heatmap(confusion_matrix(y_test, y_pred), annot = True)"
   ]
  },
  {
   "cell_type": "code",
   "execution_count": 12,
   "id": "57fdc958",
   "metadata": {
    "execution": {
     "iopub.execute_input": "2022-04-30T09:49:00.222142Z",
     "iopub.status.busy": "2022-04-30T09:49:00.221281Z",
     "iopub.status.idle": "2022-04-30T09:49:01.242602Z",
     "shell.execute_reply": "2022-04-30T09:49:01.241748Z"
    },
    "papermill": {
     "duration": 1.080049,
     "end_time": "2022-04-30T09:49:01.248207",
     "exception": false,
     "start_time": "2022-04-30T09:49:00.168158",
     "status": "completed"
    },
    "tags": []
   },
   "outputs": [
    {
     "name": "stdout",
     "output_type": "stream",
     "text": [
      "Accuracy Score is 0.7975\n",
      "Precision Score 0.0\n",
      "Recall Score 0.0\n",
      "F1 Score 0.0\n"
     ]
    },
    {
     "name": "stderr",
     "output_type": "stream",
     "text": [
      "c:\\users\\hp\\appdata\\local\\programs\\python\\python39\\lib\\site-packages\\sklearn\\metrics\\_classification.py:1318: UndefinedMetricWarning: Precision is ill-defined and being set to 0.0 due to no predicted samples. Use `zero_division` parameter to control this behavior.\n",
      "  _warn_prf(average, modifier, msg_start, len(result))\n"
     ]
    }
   ],
   "source": [
    "y_pred0 = multi_layer_Classifier.predict(X_test)\n",
    "\n",
    "print(f\"Accuracy Score is {accuracy_score(y_test, y_pred0)}\")\n",
    "print(f\"Precision Score {precision_score(y_test, y_pred0)}\")\n",
    "print(f\"Recall Score {recall_score(y_test, y_pred0)}\")\n",
    "print(f\"F1 Score {f1_score(y_test, y_pred0)}\")"
   ]
  },
  {
   "cell_type": "code",
   "execution_count": 13,
   "id": "e339cf18",
   "metadata": {
    "execution": {
     "iopub.execute_input": "2022-04-30T09:49:01.397316Z",
     "iopub.status.busy": "2022-04-30T09:49:01.396994Z",
     "iopub.status.idle": "2022-04-30T09:49:01.595711Z",
     "shell.execute_reply": "2022-04-30T09:49:01.594747Z"
    },
    "papermill": {
     "duration": 0.25785,
     "end_time": "2022-04-30T09:49:01.598637",
     "exception": false,
     "start_time": "2022-04-30T09:49:01.340787",
     "status": "completed"
    },
    "tags": []
   },
   "outputs": [
    {
     "data": {
      "text/plain": [
       "<AxesSubplot:>"
      ]
     },
     "execution_count": 13,
     "metadata": {},
     "output_type": "execute_result"
    },
    {
     "data": {
      "image/png": "[encoded data removed]",
      "text/plain": [
       "<Figure size 1080x576 with 2 Axes>"
      ]
     },
     "metadata": {
      "needs_background": "light"
     },
     "output_type": "display_data"
    }
   ],
   "source": [
    "plt.figure(figsize = (15,8))\n",
    "sns.heatmap(confusion_matrix(y_test, y_pred0), annot = True)"
   ]
  },
  {
   "cell_type": "code",
   "execution_count": 14,
   "id": "6925f6ad",
   "metadata": {
    "execution": {
     "iopub.execute_input": "2022-04-30T09:49:01.706626Z",
     "iopub.status.busy": "2022-04-30T09:49:01.705769Z",
     "iopub.status.idle": "2022-04-30T09:52:32.802626Z",
     "shell.execute_reply": "2022-04-30T09:52:32.801508Z"
    },
    "papermill": {
     "duration": 211.154879,
     "end_time": "2022-04-30T09:52:32.806177",
     "exception": false,
     "start_time": "2022-04-30T09:49:01.651298",
     "status": "completed"
    },
    "tags": []
   },
   "outputs": [
    {
     "data": {
      "text/plain": [
       "StackingClassifier(estimators=[('nn',\n",
       "                                MLPClassifier(alpha=0.01,\n",
       "                                              hidden_layer_sizes=(250, 700, 102,\n",
       "                                                                  51),\n",
       "                                              max_iter=3500, random_state=42)),\n",
       "                               ('svr', SVC(C=1, gamma='auto'))],\n",
       "                   final_estimator=StackingClassifier(estimators=[('xgbr',\n",
       "                                                                   XGBClassifier(base_score=None,\n",
       "                                                                                 booster=None,\n",
       "                                                                                 callbacks=None,\n",
       "                                                                                 colsample_bylevel=None,\n",
       "                                                                                 colsample_bynode=None,\n",
       "                                                                                 colsample_bytree=None,\n",
       "                                                                                 criterion...\n",
       "                                                                   DecisionTreeClassifier(random_state=42)),\n",
       "                                                                  ('adbr',\n",
       "                                                                   AdaBoostClassifier(n_estimators=100,\n",
       "                                                                                      random_state=42)),\n",
       "                                                                  ('gbrt',\n",
       "                                                                   HistGradientBoostingClassifier(random_state=42)),\n",
       "                                                                  ('rf',\n",
       "                                                                   RandomForestClassifier(random_state=42)),\n",
       "                                                                  ('etr',\n",
       "                                                                   ExtraTreesClassifier(max_depth=10,\n",
       "                                                                                        max_features=0.5,\n",
       "                                                                                        random_state=42))],\n",
       "                                                      final_estimator=LogisticRegression(),\n",
       "                                                      n_jobs=-1,\n",
       "                                                      passthrough=True),\n",
       "                   n_jobs=-1)"
      ]
     },
     "execution_count": 14,
     "metadata": {},
     "output_type": "execute_result"
    }
   ],
   "source": [
    "# Modified Model\n",
    "final_layer1 = StackingClassifier(\n",
    "     estimators=[  ('xgbr', XGBClassifier(criterion= 'gini', max_depth= 25, max_features= 'auto', min_samples_leaf= 0, n_estimators= 10)), \n",
    "                 ('sgdr', SGDClassifier(max_iter=3000, tol=1e-3)), \n",
    "                 ('dtr', DecisionTreeClassifier(random_state=42)),\n",
    "                 ('adbr', AdaBoostClassifier(random_state=42, n_estimators=100)),\n",
    "                 ('gbrt', HistGradientBoostingClassifier(random_state=42)),\n",
    "                 ('rf', RandomForestClassifier(random_state=42)),\n",
    "                 ('etr', ExtraTreesClassifier(n_estimators=100, max_depth=10, max_features=0.5, random_state=42))\n",
    "                 ],\n",
    "    final_estimator= LogisticRegression(), passthrough=True, n_jobs=-1\n",
    "\n",
    "    )\n",
    "multi_layer_Classifier1 = StackingClassifier(\n",
    "        estimators=[ \n",
    "\n",
    "                 ('nn', MLPClassifier(hidden_layer_sizes = (250,700,102,51),max_iter=3500, activation = 'relu', solver = 'adam', alpha = 0.01, random_state = 42)),\n",
    "                 ('svr', SVC(C=1, gamma='auto', kernel='rbf'))],\n",
    "         final_estimator=final_layer1, passthrough=False, n_jobs=-1\n",
    "   )\n",
    "multi_layer_Classifier1.fit(X_train, y_train)"
   ]
  },
  {
   "cell_type": "code",
   "execution_count": 15,
   "id": "f88456f2",
   "metadata": {
    "execution": {
     "iopub.execute_input": "2022-04-30T09:52:32.936792Z",
     "iopub.status.busy": "2022-04-30T09:52:32.936468Z",
     "iopub.status.idle": "2022-04-30T09:52:34.272668Z",
     "shell.execute_reply": "2022-04-30T09:52:34.271079Z"
    },
    "papermill": {
     "duration": 1.397534,
     "end_time": "2022-04-30T09:52:34.276401",
     "exception": false,
     "start_time": "2022-04-30T09:52:32.878867",
     "status": "completed"
    },
    "tags": []
   },
   "outputs": [
    {
     "name": "stdout",
     "output_type": "stream",
     "text": [
      "Accuracy Score is 0.7975\n",
      "Precision Score 0.0\n",
      "Recall Score 0.0\n",
      "F1 Score 0.0\n"
     ]
    },
    {
     "name": "stderr",
     "output_type": "stream",
     "text": [
      "c:\\users\\hp\\appdata\\local\\programs\\python\\python39\\lib\\site-packages\\sklearn\\metrics\\_classification.py:1318: UndefinedMetricWarning: Precision is ill-defined and being set to 0.0 due to no predicted samples. Use `zero_division` parameter to control this behavior.\n",
      "  _warn_prf(average, modifier, msg_start, len(result))\n"
     ]
    }
   ],
   "source": [
    "# Modified Model\n",
    "y_pred1 = multi_layer_Classifier1.predict(X_test)\n",
    "\n",
    "print(f\"Accuracy Score is {accuracy_score(y_test, y_pred1)}\")\n",
    "print(f\"Precision Score {precision_score(y_test, y_pred1)}\")\n",
    "print(f\"Recall Score {recall_score(y_test, y_pred1)}\")\n",
    "print(f\"F1 Score {f1_score(y_test, y_pred1)}\")"
   ]
  },
  {
   "cell_type": "code",
   "execution_count": 16,
   "id": "cb21a6fe",
   "metadata": {
    "execution": {
     "iopub.execute_input": "2022-04-30T09:52:34.440689Z",
     "iopub.status.busy": "2022-04-30T09:52:34.440359Z",
     "iopub.status.idle": "2022-04-30T09:52:34.700243Z",
     "shell.execute_reply": "2022-04-30T09:52:34.699344Z"
    },
    "papermill": {
     "duration": 0.320594,
     "end_time": "2022-04-30T09:52:34.702590",
     "exception": false,
     "start_time": "2022-04-30T09:52:34.381996",
     "status": "completed"
    },
    "tags": []
   },
   "outputs": [
    {
     "data": {
      "text/plain": [
       "<AxesSubplot:>"
      ]
     },
     "execution_count": 16,
     "metadata": {},
     "output_type": "execute_result"
    },
    {
     "data": {
      "image/png": "[encoded data removed]",
      "text/plain": [
       "<Figure size 1080x576 with 2 Axes>"
      ]
     },
     "metadata": {
      "needs_background": "light"
     },
     "output_type": "display_data"
    }
   ],
   "source": [
    "plt.figure(figsize = (15,8))\n",
    "sns.heatmap(confusion_matrix(y_test, y_pred1), annot = True)"
   ]
  },
  {
   "cell_type": "code",
   "execution_count": 17,
   "id": "d2df78e3",
   "metadata": {
    "execution": {
     "iopub.execute_input": "2022-04-30T09:52:34.823787Z",
     "iopub.status.busy": "2022-04-30T09:52:34.823453Z",
     "iopub.status.idle": "2022-04-30T09:56:09.186307Z",
     "shell.execute_reply": "2022-04-30T09:56:09.185249Z"
    },
    "papermill": {
     "duration": 214.42765,
     "end_time": "2022-04-30T09:56:09.190601",
     "exception": false,
     "start_time": "2022-04-30T09:52:34.762951",
     "status": "completed"
    },
    "tags": []
   },
   "outputs": [
    {
     "data": {
      "text/plain": [
       "StackingClassifier(estimators=[('nn',\n",
       "                                MLPClassifier(alpha=0.01,\n",
       "                                              hidden_layer_sizes=(250, 700, 102,\n",
       "                                                                  51),\n",
       "                                              max_iter=3500, random_state=42)),\n",
       "                               ('svc', SVC(C=1, gamma='auto'))],\n",
       "                   final_estimator=StackingClassifier(estimators=[('xgbr',\n",
       "                                                                   XGBClassifier(base_score=None,\n",
       "                                                                                 booster=None,\n",
       "                                                                                 callbacks=None,\n",
       "                                                                                 colsample_bylevel=None,\n",
       "                                                                                 colsample_bynode=None,\n",
       "                                                                                 colsample_bytree=None,\n",
       "                                                                                 criterion...\n",
       "                                                                   DecisionTreeClassifier(random_state=42)),\n",
       "                                                                  ('adbr',\n",
       "                                                                   AdaBoostClassifier(n_estimators=100,\n",
       "                                                                                      random_state=42)),\n",
       "                                                                  ('gbrt',\n",
       "                                                                   HistGradientBoostingClassifier(random_state=42)),\n",
       "                                                                  ('rf',\n",
       "                                                                   RandomForestClassifier(random_state=42)),\n",
       "                                                                  ('etr',\n",
       "                                                                   ExtraTreesClassifier(max_depth=5,\n",
       "                                                                                        max_features=0.5,\n",
       "                                                                                        random_state=42))],\n",
       "                                                      final_estimator=LogisticRegression(),\n",
       "                                                      n_jobs=-1,\n",
       "                                                      passthrough=True),\n",
       "                   n_jobs=-1)"
      ]
     },
     "execution_count": 17,
     "metadata": {},
     "output_type": "execute_result"
    }
   ],
   "source": [
    "# Modified Model1\n",
    "from sklearn.svm import SVC\n",
    "\n",
    "final_layer1 = StackingClassifier(\n",
    "     estimators=[  ('xgbr', XGBClassifier(criterion= 'gini', max_depth= 20, max_features= 'auto', min_samples_leaf= 0, n_estimators= 10)), \n",
    "                 ('sgdr', SGDClassifier(max_iter=3000, tol=1e-3)), \n",
    "                 ('dtr', DecisionTreeClassifier(random_state=42)),\n",
    "                 ('adbr', AdaBoostClassifier(random_state=42, n_estimators=100)),\n",
    "                 ('gbrt', HistGradientBoostingClassifier(random_state=42)),\n",
    "                 ('rf', RandomForestClassifier(random_state=42)),\n",
    "                 ('etr', ExtraTreesClassifier(n_estimators=100, max_depth=5, max_features=0.5, random_state=42))\n",
    "                 ],\n",
    "        final_estimator= LogisticRegression(), passthrough=True, n_jobs=-1\n",
    "\n",
    "\n",
    "    )\n",
    "multi_layer_Classifier2 = StackingClassifier(\n",
    "        estimators=[ \n",
    "                 \n",
    "                 ('nn', MLPClassifier(hidden_layer_sizes = (250,700,102,51),max_iter=3500, activation = 'relu', solver = 'adam', alpha = 0.01, random_state = 42)),\n",
    "                 ('svc', SVC(C=1, gamma='auto', kernel='rbf'))],\n",
    "         final_estimator=final_layer1, passthrough=False, n_jobs=-1\n",
    "   )\n",
    "multi_layer_Classifier2.fit(X_train, y_train)"
   ]
  },
  {
   "cell_type": "code",
   "execution_count": 18,
   "id": "5d39efaa",
   "metadata": {
    "execution": {
     "iopub.execute_input": "2022-04-30T09:56:09.313109Z",
     "iopub.status.busy": "2022-04-30T09:56:09.312804Z",
     "iopub.status.idle": "2022-04-30T09:56:10.543024Z",
     "shell.execute_reply": "2022-04-30T09:56:10.542218Z"
    },
    "papermill": {
     "duration": 1.296868,
     "end_time": "2022-04-30T09:56:10.548232",
     "exception": false,
     "start_time": "2022-04-30T09:56:09.251364",
     "status": "completed"
    },
    "tags": []
   },
   "outputs": [
    {
     "name": "stdout",
     "output_type": "stream",
     "text": [
      "Accuracy Score is 0.7975\n",
      "Precision Score 0.0\n",
      "Recall Score 0.0\n",
      "F1 Score 0.0\n"
     ]
    },
    {
     "name": "stderr",
     "output_type": "stream",
     "text": [
      "c:\\users\\hp\\appdata\\local\\programs\\python\\python39\\lib\\site-packages\\sklearn\\metrics\\_classification.py:1318: UndefinedMetricWarning: Precision is ill-defined and being set to 0.0 due to no predicted samples. Use `zero_division` parameter to control this behavior.\n",
      "  _warn_prf(average, modifier, msg_start, len(result))\n"
     ]
    }
   ],
   "source": [
    "# Modified Model1\n",
    "y_pred1 = multi_layer_Classifier2.predict(X_test)\n",
    "\n",
    "\n",
    "print(f\"Accuracy Score is {accuracy_score(y_test, y_pred1)}\")\n",
    "print(f\"Precision Score {precision_score(y_test, y_pred1)}\")\n",
    "print(f\"Recall Score {recall_score(y_test, y_pred1)}\")\n",
    "print(f\"F1 Score {f1_score(y_test, y_pred1)}\")"
   ]
  },
  {
   "cell_type": "code",
   "execution_count": 19,
   "id": "28345938",
   "metadata": {
    "execution": {
     "iopub.execute_input": "2022-04-30T09:56:10.715154Z",
     "iopub.status.busy": "2022-04-30T09:56:10.714845Z",
     "iopub.status.idle": "2022-04-30T09:56:10.963719Z",
     "shell.execute_reply": "2022-04-30T09:56:10.962975Z"
    },
    "papermill": {
     "duration": 0.312963,
     "end_time": "2022-04-30T09:56:10.965580",
     "exception": false,
     "start_time": "2022-04-30T09:56:10.652617",
     "status": "completed"
    },
    "tags": []
   },
   "outputs": [
    {
     "data": {
      "text/plain": [
       "<AxesSubplot:>"
      ]
     },
     "execution_count": 19,
     "metadata": {},
     "output_type": "execute_result"
    },
    {
     "data": {
      "image/png": "[encoded data removed]",
      "text/plain": [
       "<Figure size 1080x576 with 2 Axes>"
      ]
     },
     "metadata": {
      "needs_background": "light"
     },
     "output_type": "display_data"
    }
   ],
   "source": [
    "plt.figure(figsize = (15,8))\n",
    "sns.heatmap(confusion_matrix(y_test, y_pred1), annot = True)"
   ]
  }
 ],
 "metadata": {
  "kernelspec": {
   "display_name": "Python 3 (ipykernel)",
   "language": "python",
   "name": "python3"
  },
  "language_info": {
   "codemirror_mode": {
    "name": "ipython",
    "version": 3
   },
   "file_extension": ".py",
   "mimetype": "text/x-python",
   "name": "python",
   "nbconvert_exporter": "python",
   "pygments_lexer": "ipython3",
   "version": "3.9.6"
  },
  "papermill": {
   "default_parameters": {},
   "duration": 2296.268247,
   "end_time": "2022-04-30T09:56:13.773017",
   "environment_variables": {},
   "exception": null,
   "input_path": "__notebook__.ipynb",
   "output_path": "__notebook__.ipynb",
   "parameters": {},
   "start_time": "2022-04-30T09:17:57.504770",
   "version": "2.3.4"
  }
 },
 "nbformat": 4,
 "nbformat_minor": 5
}
