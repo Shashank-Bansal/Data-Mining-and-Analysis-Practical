{
 "cells": [
  {
   "cell_type": "markdown",
   "id": "38cbb6e3",
   "metadata": {},
   "source": [
    "# Importing the libraries"
   ]
  },
  {
   "cell_type": "code",
   "execution_count": 1,
   "id": "8d0bd4a9",
   "metadata": {},
   "outputs": [],
   "source": [
    "import numpy as np\n",
    "import matplotlib.pyplot as plt\n",
    "import pandas as pd\n",
    "from sklearn.preprocessing import LabelEncoder\n",
    "from sklearn.model_selection import train_test_split\n",
    "from sklearn.preprocessing import StandardScaler\n",
    "import keras\n",
    "from keras.models import Sequential\n",
    "from keras.layers import Dense\n",
    "from sklearn.metrics import confusion_matrix\n",
    "import seaborn as sns"
   ]
  },
  {
   "cell_type": "markdown",
   "id": "d87e351f",
   "metadata": {},
   "source": [
    "# Data Pre-processing"
   ]
  },
  {
   "cell_type": "code",
   "execution_count": 2,
   "id": "743c3cd5",
   "metadata": {},
   "outputs": [],
   "source": [
    "dataset = pd.read_csv(\"IRIS.csv\")\n",
    "X = dataset.iloc[:, 0: -1].values\n",
    "y = dataset.iloc[:, -1].values"
   ]
  },
  {
   "cell_type": "code",
   "execution_count": 3,
   "id": "585c76ec",
   "metadata": {},
   "outputs": [
    {
     "data": {
      "text/html": [
       "<div>\n",
       "<style scoped>\n",
       "    .dataframe tbody tr th:only-of-type {\n",
       "        vertical-align: middle;\n",
       "    }\n",
       "\n",
       "    .dataframe tbody tr th {\n",
       "        vertical-align: top;\n",
       "    }\n",
       "\n",
       "    .dataframe thead th {\n",
       "        text-align: right;\n",
       "    }\n",
       "</style>\n",
       "<table border=\"1\" class=\"dataframe\">\n",
       "  <thead>\n",
       "    <tr style=\"text-align: right;\">\n",
       "      <th></th>\n",
       "      <th>sepal_length</th>\n",
       "      <th>sepal_width</th>\n",
       "      <th>petal_length</th>\n",
       "      <th>petal_width</th>\n",
       "      <th>species</th>\n",
       "    </tr>\n",
       "  </thead>\n",
       "  <tbody>\n",
       "    <tr>\n",
       "      <th>0</th>\n",
       "      <td>5.1</td>\n",
       "      <td>3.5</td>\n",
       "      <td>1.4</td>\n",
       "      <td>0.2</td>\n",
       "      <td>Iris-setosa</td>\n",
       "    </tr>\n",
       "    <tr>\n",
       "      <th>1</th>\n",
       "      <td>4.9</td>\n",
       "      <td>3.0</td>\n",
       "      <td>1.4</td>\n",
       "      <td>0.2</td>\n",
       "      <td>Iris-setosa</td>\n",
       "    </tr>\n",
       "    <tr>\n",
       "      <th>2</th>\n",
       "      <td>4.7</td>\n",
       "      <td>3.2</td>\n",
       "      <td>1.3</td>\n",
       "      <td>0.2</td>\n",
       "      <td>Iris-setosa</td>\n",
       "    </tr>\n",
       "    <tr>\n",
       "      <th>3</th>\n",
       "      <td>4.6</td>\n",
       "      <td>3.1</td>\n",
       "      <td>1.5</td>\n",
       "      <td>0.2</td>\n",
       "      <td>Iris-setosa</td>\n",
       "    </tr>\n",
       "    <tr>\n",
       "      <th>4</th>\n",
       "      <td>5.0</td>\n",
       "      <td>3.6</td>\n",
       "      <td>1.4</td>\n",
       "      <td>0.2</td>\n",
       "      <td>Iris-setosa</td>\n",
       "    </tr>\n",
       "  </tbody>\n",
       "</table>\n",
       "</div>"
      ],
      "text/plain": [
       "   sepal_length  sepal_width  petal_length  petal_width      species\n",
       "0           5.1          3.5           1.4          0.2  Iris-setosa\n",
       "1           4.9          3.0           1.4          0.2  Iris-setosa\n",
       "2           4.7          3.2           1.3          0.2  Iris-setosa\n",
       "3           4.6          3.1           1.5          0.2  Iris-setosa\n",
       "4           5.0          3.6           1.4          0.2  Iris-setosa"
      ]
     },
     "execution_count": 3,
     "metadata": {},
     "output_type": "execute_result"
    }
   ],
   "source": [
    "dataset.head()"
   ]
  },
  {
   "cell_type": "code",
   "execution_count": 4,
   "id": "ba69e28d",
   "metadata": {},
   "outputs": [
    {
     "name": "stdout",
     "output_type": "stream",
     "text": [
      "<class 'pandas.core.frame.DataFrame'>\n",
      "RangeIndex: 150 entries, 0 to 149\n",
      "Data columns (total 5 columns):\n",
      " #   Column        Non-Null Count  Dtype  \n",
      "---  ------        --------------  -----  \n",
      " 0   sepal_length  150 non-null    float64\n",
      " 1   sepal_width   150 non-null    float64\n",
      " 2   petal_length  150 non-null    float64\n",
      " 3   petal_width   150 non-null    float64\n",
      " 4   species       150 non-null    object \n",
      "dtypes: float64(4), object(1)\n",
      "memory usage: 6.0+ KB\n"
     ]
    }
   ],
   "source": [
    "dataset.info()"
   ]
  },
  {
   "cell_type": "markdown",
   "id": "146a8b92",
   "metadata": {},
   "source": [
    "<h6>Label Encoding</h6>"
   ]
  },
  {
   "cell_type": "code",
   "execution_count": 5,
   "id": "ab026913",
   "metadata": {},
   "outputs": [],
   "source": [
    "le = LabelEncoder()\n",
    "y = le.fit_transform(y)"
   ]
  },
  {
   "cell_type": "markdown",
   "id": "ad42f0b6",
   "metadata": {},
   "source": [
    "<h6>Splitting the dataset into the Training set and Test set</h6>"
   ]
  },
  {
   "cell_type": "code",
   "execution_count": 6,
   "id": "3832cb4c",
   "metadata": {},
   "outputs": [],
   "source": [
    "X_train, X_test, y_train, y_test = train_test_split(X, y, test_size = 0.2, random_state = 0)"
   ]
  },
  {
   "cell_type": "markdown",
   "id": "1e944f9b",
   "metadata": {},
   "source": [
    "<h6>Feature Scaling</h6>"
   ]
  },
  {
   "cell_type": "code",
   "execution_count": 7,
   "id": "a5dd076e",
   "metadata": {},
   "outputs": [],
   "source": [
    "sc = StandardScaler()\n",
    "X_train = sc.fit_transform(X_train)\n",
    "X_test = sc.transform(X_test)"
   ]
  },
  {
   "cell_type": "markdown",
   "id": "37db266b",
   "metadata": {},
   "source": [
    "# Building the Model"
   ]
  },
  {
   "cell_type": "markdown",
   "id": "33036e5f",
   "metadata": {},
   "source": [
    "<h6>Initialising the ANN</h6>"
   ]
  },
  {
   "cell_type": "code",
   "execution_count": 8,
   "id": "1247c644",
   "metadata": {},
   "outputs": [],
   "source": [
    "classifier = Sequential()"
   ]
  },
  {
   "cell_type": "markdown",
   "id": "f2d322de",
   "metadata": {},
   "source": [
    "<h6>Adding the input layer and the first hidden layer</h6>"
   ]
  },
  {
   "cell_type": "code",
   "execution_count": 9,
   "id": "d3e4ea36",
   "metadata": {},
   "outputs": [],
   "source": [
    "classifier.add(Dense(units=6, kernel_initializer = 'uniform', activation = 'relu', input_dim = 4))"
   ]
  },
  {
   "cell_type": "markdown",
   "id": "1a6d43c3",
   "metadata": {},
   "source": [
    "<h6>Adding the second hidden layer</h6>"
   ]
  },
  {
   "cell_type": "code",
   "execution_count": 10,
   "id": "a1557dc5",
   "metadata": {},
   "outputs": [],
   "source": [
    "classifier.add(Dense(6, kernel_initializer = 'uniform', activation = 'relu'))"
   ]
  },
  {
   "cell_type": "markdown",
   "id": "661b2a2f",
   "metadata": {},
   "source": [
    "<h6>Adding the output layer</h6>"
   ]
  },
  {
   "cell_type": "code",
   "execution_count": 11,
   "id": "cfe71691",
   "metadata": {},
   "outputs": [],
   "source": [
    "classifier.add(Dense(1, kernel_initializer = 'uniform', activation = 'softmax'))"
   ]
  },
  {
   "cell_type": "markdown",
   "id": "808696dc",
   "metadata": {},
   "source": [
    "# Training of the ANN"
   ]
  },
  {
   "cell_type": "markdown",
   "id": "70af88b8",
   "metadata": {},
   "source": [
    "<h6>Compiling the ANN (Configuring the learning process)</h6>"
   ]
  },
  {
   "cell_type": "code",
   "execution_count": 12,
   "id": "ac7dc875",
   "metadata": {},
   "outputs": [],
   "source": [
    "classifier.compile(optimizer = 'adam', loss = 'binary_crossentropy', metrics = ['accuracy'])"
   ]
  },
  {
   "cell_type": "markdown",
   "id": "3a70e203",
   "metadata": {},
   "source": [
    "<h6>Fitting the ANN to the Training set</h6>"
   ]
  },
  {
   "cell_type": "code",
   "execution_count": 13,
   "id": "bafcaf43",
   "metadata": {},
   "outputs": [
    {
     "name": "stdout",
     "output_type": "stream",
     "text": [
      "Epoch 1/100\n",
      "12/12 [==============================] - 1s 3ms/step - loss: 0.6903 - accuracy: 0.3083\n",
      "Epoch 2/100\n",
      "12/12 [==============================] - 0s 4ms/step - loss: 0.6830 - accuracy: 0.3083\n",
      "Epoch 3/100\n",
      "12/12 [==============================] - 0s 4ms/step - loss: 0.6750 - accuracy: 0.3083\n",
      "Epoch 4/100\n",
      "12/12 [==============================] - 0s 4ms/step - loss: 0.6649 - accuracy: 0.3083\n",
      "Epoch 5/100\n",
      "12/12 [==============================] - 0s 4ms/step - loss: 0.6532 - accuracy: 0.3083\n",
      "Epoch 6/100\n",
      "12/12 [==============================] - 0s 3ms/step - loss: 0.6350 - accuracy: 0.3083\n",
      "Epoch 7/100\n",
      "12/12 [==============================] - 0s 4ms/step - loss: 0.6134 - accuracy: 0.3083\n",
      "Epoch 8/100\n",
      "12/12 [==============================] - 0s 3ms/step - loss: 0.5852 - accuracy: 0.3083\n",
      "Epoch 9/100\n",
      "12/12 [==============================] - 0s 4ms/step - loss: 0.5448 - accuracy: 0.3083\n",
      "Epoch 10/100\n",
      "12/12 [==============================] - 0s 4ms/step - loss: 0.5003 - accuracy: 0.3083\n",
      "Epoch 11/100\n",
      "12/12 [==============================] - 0s 4ms/step - loss: 0.4418 - accuracy: 0.3083\n",
      "Epoch 12/100\n",
      "12/12 [==============================] - 0s 4ms/step - loss: 0.3739 - accuracy: 0.3083\n",
      "Epoch 13/100\n",
      "12/12 [==============================] - 0s 4ms/step - loss: 0.2939 - accuracy: 0.3083\n",
      "Epoch 14/100\n",
      "12/12 [==============================] - 0s 4ms/step - loss: 0.2018 - accuracy: 0.3083\n",
      "Epoch 15/100\n",
      "12/12 [==============================] - 0s 3ms/step - loss: 0.0962 - accuracy: 0.3083\n",
      "Epoch 16/100\n",
      "12/12 [==============================] - 0s 4ms/step - loss: -0.0212 - accuracy: 0.3083\n",
      "Epoch 17/100\n",
      "12/12 [==============================] - 0s 4ms/step - loss: -0.1457 - accuracy: 0.3083\n",
      "Epoch 18/100\n",
      "12/12 [==============================] - 0s 4ms/step - loss: -0.2819 - accuracy: 0.3083\n",
      "Epoch 19/100\n",
      "12/12 [==============================] - 0s 4ms/step - loss: -0.4179 - accuracy: 0.3083\n",
      "Epoch 20/100\n",
      "12/12 [==============================] - 0s 4ms/step - loss: -0.5816 - accuracy: 0.3083\n",
      "Epoch 21/100\n",
      "12/12 [==============================] - 0s 3ms/step - loss: -0.7302 - accuracy: 0.3083\n",
      "Epoch 22/100\n",
      "12/12 [==============================] - 0s 3ms/step - loss: -0.9070 - accuracy: 0.3083\n",
      "Epoch 23/100\n",
      "12/12 [==============================] - 0s 3ms/step - loss: -1.0788 - accuracy: 0.3083\n",
      "Epoch 24/100\n",
      "12/12 [==============================] - 0s 4ms/step - loss: -1.2533 - accuracy: 0.3083\n",
      "Epoch 25/100\n",
      "12/12 [==============================] - 0s 3ms/step - loss: -1.4556 - accuracy: 0.3083\n",
      "Epoch 26/100\n",
      "12/12 [==============================] - 0s 3ms/step - loss: -1.6607 - accuracy: 0.3083\n",
      "Epoch 27/100\n",
      "12/12 [==============================] - 0s 3ms/step - loss: -1.8799 - accuracy: 0.3083\n",
      "Epoch 28/100\n",
      "12/12 [==============================] - 0s 3ms/step - loss: -2.1140 - accuracy: 0.3083\n",
      "Epoch 29/100\n",
      "12/12 [==============================] - 0s 4ms/step - loss: -2.3671 - accuracy: 0.3083\n",
      "Epoch 30/100\n",
      "12/12 [==============================] - 0s 3ms/step - loss: -2.6405 - accuracy: 0.3083\n",
      "Epoch 31/100\n",
      "12/12 [==============================] - 0s 3ms/step - loss: -2.9326 - accuracy: 0.3083\n",
      "Epoch 32/100\n",
      "12/12 [==============================] - 0s 3ms/step - loss: -3.2340 - accuracy: 0.3083\n",
      "Epoch 33/100\n",
      "12/12 [==============================] - 0s 4ms/step - loss: -3.5599 - accuracy: 0.3083\n",
      "Epoch 34/100\n",
      "12/12 [==============================] - 0s 3ms/step - loss: -3.9356 - accuracy: 0.3083\n",
      "Epoch 35/100\n",
      "12/12 [==============================] - 0s 4ms/step - loss: -4.2727 - accuracy: 0.3083\n",
      "Epoch 36/100\n",
      "12/12 [==============================] - 0s 4ms/step - loss: -4.6926 - accuracy: 0.3083\n",
      "Epoch 37/100\n",
      "12/12 [==============================] - 0s 4ms/step - loss: -5.1340 - accuracy: 0.3083\n",
      "Epoch 38/100\n",
      "12/12 [==============================] - 0s 3ms/step - loss: -5.5712 - accuracy: 0.3083\n",
      "Epoch 39/100\n",
      "12/12 [==============================] - 0s 3ms/step - loss: -6.0628 - accuracy: 0.3083\n",
      "Epoch 40/100\n",
      "12/12 [==============================] - 0s 3ms/step - loss: -6.5830 - accuracy: 0.3083\n",
      "Epoch 41/100\n",
      "12/12 [==============================] - 0s 3ms/step - loss: -7.0926 - accuracy: 0.3083\n",
      "Epoch 42/100\n",
      "12/12 [==============================] - 0s 3ms/step - loss: -7.6751 - accuracy: 0.3083\n",
      "Epoch 43/100\n",
      "12/12 [==============================] - 0s 3ms/step - loss: -8.2424 - accuracy: 0.3083 \n",
      "Epoch 44/100\n",
      "12/12 [==============================] - 0s 4ms/step - loss: -8.9101 - accuracy: 0.3083\n",
      "Epoch 45/100\n",
      "12/12 [==============================] - 0s 4ms/step - loss: -9.5368 - accuracy: 0.3083\n",
      "Epoch 46/100\n",
      "12/12 [==============================] - 0s 3ms/step - loss: -10.2390 - accuracy: 0.3083\n",
      "Epoch 47/100\n",
      "12/12 [==============================] - 0s 3ms/step - loss: -10.9364 - accuracy: 0.3083\n",
      "Epoch 48/100\n",
      "12/12 [==============================] - 0s 4ms/step - loss: -11.7451 - accuracy: 0.3083\n",
      "Epoch 49/100\n",
      "12/12 [==============================] - 0s 4ms/step - loss: -12.5258 - accuracy: 0.3083\n",
      "Epoch 50/100\n",
      "12/12 [==============================] - 0s 4ms/step - loss: -13.3537 - accuracy: 0.3083\n",
      "Epoch 51/100\n",
      "12/12 [==============================] - 0s 3ms/step - loss: -14.1828 - accuracy: 0.3083\n",
      "Epoch 52/100\n",
      "12/12 [==============================] - 0s 4ms/step - loss: -15.1138 - accuracy: 0.3083\n",
      "Epoch 53/100\n",
      "12/12 [==============================] - 0s 3ms/step - loss: -15.9890 - accuracy: 0.3083\n",
      "Epoch 54/100\n",
      "12/12 [==============================] - 0s 3ms/step - loss: -16.9982 - accuracy: 0.3083\n",
      "Epoch 55/100\n",
      "12/12 [==============================] - 0s 3ms/step - loss: -18.0097 - accuracy: 0.3083\n",
      "Epoch 56/100\n",
      "12/12 [==============================] - 0s 3ms/step - loss: -19.0560 - accuracy: 0.3083\n",
      "Epoch 57/100\n",
      "12/12 [==============================] - 0s 3ms/step - loss: -20.1264 - accuracy: 0.3083\n",
      "Epoch 58/100\n",
      "12/12 [==============================] - 0s 3ms/step - loss: -21.1579 - accuracy: 0.3083\n",
      "Epoch 59/100\n",
      "12/12 [==============================] - 0s 4ms/step - loss: -22.3509 - accuracy: 0.3083\n",
      "Epoch 60/100\n",
      "12/12 [==============================] - 0s 3ms/step - loss: -23.5530 - accuracy: 0.3083\n",
      "Epoch 61/100\n",
      "12/12 [==============================] - 0s 3ms/step - loss: -24.7353 - accuracy: 0.3083\n",
      "Epoch 62/100\n",
      "12/12 [==============================] - 0s 3ms/step - loss: -26.0222 - accuracy: 0.3083\n",
      "Epoch 63/100\n",
      "12/12 [==============================] - 0s 3ms/step - loss: -27.3493 - accuracy: 0.3083\n",
      "Epoch 64/100\n",
      "12/12 [==============================] - 0s 4ms/step - loss: -28.6834 - accuracy: 0.3083\n",
      "Epoch 65/100\n",
      "12/12 [==============================] - 0s 3ms/step - loss: -30.0850 - accuracy: 0.3083\n",
      "Epoch 66/100\n",
      "12/12 [==============================] - 0s 3ms/step - loss: -31.4969 - accuracy: 0.3083\n",
      "Epoch 67/100\n",
      "12/12 [==============================] - 0s 4ms/step - loss: -33.0185 - accuracy: 0.3083\n",
      "Epoch 68/100\n",
      "12/12 [==============================] - 0s 3ms/step - loss: -34.5082 - accuracy: 0.3083\n",
      "Epoch 69/100\n",
      "12/12 [==============================] - 0s 4ms/step - loss: -36.0605 - accuracy: 0.3083\n",
      "Epoch 70/100\n",
      "12/12 [==============================] - 0s 3ms/step - loss: -37.7537 - accuracy: 0.3083\n",
      "Epoch 71/100\n",
      "12/12 [==============================] - 0s 2ms/step - loss: -39.3670 - accuracy: 0.3083\n",
      "Epoch 72/100\n",
      "12/12 [==============================] - 0s 3ms/step - loss: -41.0205 - accuracy: 0.3083\n",
      "Epoch 73/100\n",
      "12/12 [==============================] - 0s 3ms/step - loss: -42.8450 - accuracy: 0.3083\n",
      "Epoch 74/100\n",
      "12/12 [==============================] - 0s 4ms/step - loss: -44.6152 - accuracy: 0.3083\n",
      "Epoch 75/100\n",
      "12/12 [==============================] - 0s 3ms/step - loss: -46.4594 - accuracy: 0.3083\n",
      "Epoch 76/100\n",
      "12/12 [==============================] - 0s 3ms/step - loss: -48.3840 - accuracy: 0.3083\n",
      "Epoch 77/100\n",
      "12/12 [==============================] - 0s 3ms/step - loss: -50.1981 - accuracy: 0.3083\n",
      "Epoch 78/100\n",
      "12/12 [==============================] - 0s 3ms/step - loss: -52.2549 - accuracy: 0.3083\n",
      "Epoch 79/100\n",
      "12/12 [==============================] - 0s 3ms/step - loss: -54.2073 - accuracy: 0.3083\n",
      "Epoch 80/100\n",
      "12/12 [==============================] - 0s 3ms/step - loss: -56.4209 - accuracy: 0.3083\n",
      "Epoch 81/100\n",
      "12/12 [==============================] - 0s 3ms/step - loss: -58.4691 - accuracy: 0.3083\n"
     ]
    },
    {
     "name": "stdout",
     "output_type": "stream",
     "text": [
      "Epoch 82/100\n",
      "12/12 [==============================] - 0s 4ms/step - loss: -60.6386 - accuracy: 0.3083\n",
      "Epoch 83/100\n",
      "12/12 [==============================] - 0s 4ms/step - loss: -62.9447 - accuracy: 0.3083\n",
      "Epoch 84/100\n",
      "12/12 [==============================] - 0s 3ms/step - loss: -65.2274 - accuracy: 0.3083\n",
      "Epoch 85/100\n",
      "12/12 [==============================] - 0s 4ms/step - loss: -67.5422 - accuracy: 0.3083\n",
      "Epoch 86/100\n",
      "12/12 [==============================] - 0s 4ms/step - loss: -69.8607 - accuracy: 0.3083\n",
      "Epoch 87/100\n",
      "12/12 [==============================] - 0s 4ms/step - loss: -72.2812 - accuracy: 0.3083\n",
      "Epoch 88/100\n",
      "12/12 [==============================] - 0s 3ms/step - loss: -74.8760 - accuracy: 0.3083\n",
      "Epoch 89/100\n",
      "12/12 [==============================] - 0s 3ms/step - loss: -77.4220 - accuracy: 0.3083\n",
      "Epoch 90/100\n",
      "12/12 [==============================] - 0s 3ms/step - loss: -80.0222 - accuracy: 0.3083\n",
      "Epoch 91/100\n",
      "12/12 [==============================] - 0s 3ms/step - loss: -82.5958 - accuracy: 0.3083\n",
      "Epoch 92/100\n",
      "12/12 [==============================] - 0s 3ms/step - loss: -85.3506 - accuracy: 0.3083\n",
      "Epoch 93/100\n",
      "12/12 [==============================] - 0s 4ms/step - loss: -88.1766 - accuracy: 0.3083\n",
      "Epoch 94/100\n",
      "12/12 [==============================] - 0s 3ms/step - loss: -90.9800 - accuracy: 0.3083\n",
      "Epoch 95/100\n",
      "12/12 [==============================] - 0s 3ms/step - loss: -93.6963 - accuracy: 0.3083\n",
      "Epoch 96/100\n",
      "12/12 [==============================] - 0s 3ms/step - loss: -96.6906 - accuracy: 0.3083\n",
      "Epoch 97/100\n",
      "12/12 [==============================] - 0s 3ms/step - loss: -99.4912 - accuracy: 0.3083\n",
      "Epoch 98/100\n",
      "12/12 [==============================] - 0s 3ms/step - loss: -102.8178 - accuracy: 0.3083\n",
      "Epoch 99/100\n",
      "12/12 [==============================] - 0s 4ms/step - loss: -105.6293 - accuracy: 0.3083\n",
      "Epoch 100/100\n",
      "12/12 [==============================] - 0s 4ms/step - loss: -108.7488 - accuracy: 0.3083\n"
     ]
    },
    {
     "data": {
      "text/plain": [
       "<keras.callbacks.History at 0x185717bcdc0>"
      ]
     },
     "execution_count": 13,
     "metadata": {},
     "output_type": "execute_result"
    }
   ],
   "source": [
    "classifier.fit(X_train, y_train, batch_size = 10, epochs = 100)"
   ]
  },
  {
   "cell_type": "markdown",
   "id": "943f2c15",
   "metadata": {},
   "source": [
    "# Making the predictions and Evaluating the model"
   ]
  },
  {
   "cell_type": "markdown",
   "id": "4e3f345a",
   "metadata": {},
   "source": [
    "<h6>Predicting the Test set results</h6>"
   ]
  },
  {
   "cell_type": "code",
   "execution_count": 14,
   "id": "0e8def94",
   "metadata": {},
   "outputs": [
    {
     "name": "stdout",
     "output_type": "stream",
     "text": [
      "1/1 [==============================] - 0s 201ms/step\n"
     ]
    }
   ],
   "source": [
    "y_pred = classifier.predict(X_test)\n",
    "y_pred = (y_pred > 0.5)"
   ]
  },
  {
   "cell_type": "markdown",
   "id": "f7fe20fc",
   "metadata": {},
   "source": [
    "<h6>Making the Confusion Matrix</h6>"
   ]
  },
  {
   "cell_type": "code",
   "execution_count": 15,
   "id": "b7982872",
   "metadata": {},
   "outputs": [
    {
     "data": {
      "image/png": "[encoded data removed]",
      "text/plain": [
       "<Figure size 720x504 with 2 Axes>"
      ]
     },
     "metadata": {
      "needs_background": "light"
     },
     "output_type": "display_data"
    }
   ],
   "source": [
    "cm = confusion_matrix(y_test, y_pred)\n",
    "plt.figure(figsize = (10,7))\n",
    "sns.set(font_scale=1.4)\n",
    "plt.title('Confusion Matrix')\n",
    "sns.heatmap(cm, annot=True)\n",
    "plt.show()"
   ]
  }
 ],
 "metadata": {
  "kernelspec": {
   "display_name": "Python 3 (ipykernel)",
   "language": "python",
   "name": "python3"
  },
  "language_info": {
   "codemirror_mode": {
    "name": "ipython",
    "version": 3
   },
   "file_extension": ".py",
   "mimetype": "text/x-python",
   "name": "python",
   "nbconvert_exporter": "python",
   "pygments_lexer": "ipython3",
   "version": "3.9.6"
  }
 },
 "nbformat": 4,
 "nbformat_minor": 5
}
