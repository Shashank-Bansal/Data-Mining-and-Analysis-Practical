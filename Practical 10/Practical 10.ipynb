{
 "cells": [
  {
   "cell_type": "markdown",
   "id": "38cbb6e3",
   "metadata": {},
   "source": [
    "# Importing the libraries"
   ]
  },
  {
   "cell_type": "code",
   "execution_count": 1,
   "id": "8d0bd4a9",
   "metadata": {},
   "outputs": [],
   "source": [
    "import numpy as np\n",
    "import matplotlib.pyplot as plt\n",
    "import pandas as pd\n",
    "from sklearn.preprocessing import LabelEncoder\n",
    "from sklearn.compose import ColumnTransformer\n",
    "from sklearn.preprocessing import OneHotEncoder\n",
    "from sklearn.model_selection import train_test_split\n",
    "from sklearn.preprocessing import StandardScaler\n",
    "import keras\n",
    "from keras.models import Sequential\n",
    "from keras.layers import Dense\n",
    "from sklearn.metrics import confusion_matrix\n",
    "import seaborn as sns"
   ]
  },
  {
   "cell_type": "markdown",
   "id": "d87e351f",
   "metadata": {},
   "source": [
    "# Data Pre-processing"
   ]
  },
  {
   "cell_type": "code",
   "execution_count": 2,
   "id": "743c3cd5",
   "metadata": {},
   "outputs": [],
   "source": [
    "dataset = pd.read_csv(\"Churn_Modelling.csv\")\n",
    "X = dataset.iloc[:, 3: -1].values\n",
    "y = dataset.iloc[:, -1].values"
   ]
  },
  {
   "cell_type": "code",
   "execution_count": 3,
   "id": "51cc0d00",
   "metadata": {},
   "outputs": [
    {
     "data": {
      "text/html": [
       "<div>\n",
       "<style scoped>\n",
       "    .dataframe tbody tr th:only-of-type {\n",
       "        vertical-align: middle;\n",
       "    }\n",
       "\n",
       "    .dataframe tbody tr th {\n",
       "        vertical-align: top;\n",
       "    }\n",
       "\n",
       "    .dataframe thead th {\n",
       "        text-align: right;\n",
       "    }\n",
       "</style>\n",
       "<table border=\"1\" class=\"dataframe\">\n",
       "  <thead>\n",
       "    <tr style=\"text-align: right;\">\n",
       "      <th></th>\n",
       "      <th>RowNumber</th>\n",
       "      <th>CustomerId</th>\n",
       "      <th>Surname</th>\n",
       "      <th>CreditScore</th>\n",
       "      <th>Geography</th>\n",
       "      <th>Gender</th>\n",
       "      <th>Age</th>\n",
       "      <th>Tenure</th>\n",
       "      <th>Balance</th>\n",
       "      <th>NumOfProducts</th>\n",
       "      <th>HasCrCard</th>\n",
       "      <th>IsActiveMember</th>\n",
       "      <th>EstimatedSalary</th>\n",
       "      <th>Exited</th>\n",
       "    </tr>\n",
       "  </thead>\n",
       "  <tbody>\n",
       "    <tr>\n",
       "      <th>0</th>\n",
       "      <td>1</td>\n",
       "      <td>15634602</td>\n",
       "      <td>Hargrave</td>\n",
       "      <td>619</td>\n",
       "      <td>France</td>\n",
       "      <td>Female</td>\n",
       "      <td>42</td>\n",
       "      <td>2</td>\n",
       "      <td>0.00</td>\n",
       "      <td>1</td>\n",
       "      <td>1</td>\n",
       "      <td>1</td>\n",
       "      <td>101348.88</td>\n",
       "      <td>1</td>\n",
       "    </tr>\n",
       "    <tr>\n",
       "      <th>1</th>\n",
       "      <td>2</td>\n",
       "      <td>15647311</td>\n",
       "      <td>Hill</td>\n",
       "      <td>608</td>\n",
       "      <td>Spain</td>\n",
       "      <td>Female</td>\n",
       "      <td>41</td>\n",
       "      <td>1</td>\n",
       "      <td>83807.86</td>\n",
       "      <td>1</td>\n",
       "      <td>0</td>\n",
       "      <td>1</td>\n",
       "      <td>112542.58</td>\n",
       "      <td>0</td>\n",
       "    </tr>\n",
       "    <tr>\n",
       "      <th>2</th>\n",
       "      <td>3</td>\n",
       "      <td>15619304</td>\n",
       "      <td>Onio</td>\n",
       "      <td>502</td>\n",
       "      <td>France</td>\n",
       "      <td>Female</td>\n",
       "      <td>42</td>\n",
       "      <td>8</td>\n",
       "      <td>159660.80</td>\n",
       "      <td>3</td>\n",
       "      <td>1</td>\n",
       "      <td>0</td>\n",
       "      <td>113931.57</td>\n",
       "      <td>1</td>\n",
       "    </tr>\n",
       "    <tr>\n",
       "      <th>3</th>\n",
       "      <td>4</td>\n",
       "      <td>15701354</td>\n",
       "      <td>Boni</td>\n",
       "      <td>699</td>\n",
       "      <td>France</td>\n",
       "      <td>Female</td>\n",
       "      <td>39</td>\n",
       "      <td>1</td>\n",
       "      <td>0.00</td>\n",
       "      <td>2</td>\n",
       "      <td>0</td>\n",
       "      <td>0</td>\n",
       "      <td>93826.63</td>\n",
       "      <td>0</td>\n",
       "    </tr>\n",
       "    <tr>\n",
       "      <th>4</th>\n",
       "      <td>5</td>\n",
       "      <td>15737888</td>\n",
       "      <td>Mitchell</td>\n",
       "      <td>850</td>\n",
       "      <td>Spain</td>\n",
       "      <td>Female</td>\n",
       "      <td>43</td>\n",
       "      <td>2</td>\n",
       "      <td>125510.82</td>\n",
       "      <td>1</td>\n",
       "      <td>1</td>\n",
       "      <td>1</td>\n",
       "      <td>79084.10</td>\n",
       "      <td>0</td>\n",
       "    </tr>\n",
       "  </tbody>\n",
       "</table>\n",
       "</div>"
      ],
      "text/plain": [
       "   RowNumber  CustomerId   Surname  CreditScore Geography  Gender  Age  \\\n",
       "0          1    15634602  Hargrave          619    France  Female   42   \n",
       "1          2    15647311      Hill          608     Spain  Female   41   \n",
       "2          3    15619304      Onio          502    France  Female   42   \n",
       "3          4    15701354      Boni          699    France  Female   39   \n",
       "4          5    15737888  Mitchell          850     Spain  Female   43   \n",
       "\n",
       "   Tenure    Balance  NumOfProducts  HasCrCard  IsActiveMember  \\\n",
       "0       2       0.00              1          1               1   \n",
       "1       1   83807.86              1          0               1   \n",
       "2       8  159660.80              3          1               0   \n",
       "3       1       0.00              2          0               0   \n",
       "4       2  125510.82              1          1               1   \n",
       "\n",
       "   EstimatedSalary  Exited  \n",
       "0        101348.88       1  \n",
       "1        112542.58       0  \n",
       "2        113931.57       1  \n",
       "3         93826.63       0  \n",
       "4         79084.10       0  "
      ]
     },
     "execution_count": 3,
     "metadata": {},
     "output_type": "execute_result"
    }
   ],
   "source": [
    "dataset.head()"
   ]
  },
  {
   "cell_type": "code",
   "execution_count": 4,
   "id": "89af98a0",
   "metadata": {},
   "outputs": [
    {
     "name": "stdout",
     "output_type": "stream",
     "text": [
      "<class 'pandas.core.frame.DataFrame'>\n",
      "RangeIndex: 10000 entries, 0 to 9999\n",
      "Data columns (total 14 columns):\n",
      " #   Column           Non-Null Count  Dtype  \n",
      "---  ------           --------------  -----  \n",
      " 0   RowNumber        10000 non-null  int64  \n",
      " 1   CustomerId       10000 non-null  int64  \n",
      " 2   Surname          10000 non-null  object \n",
      " 3   CreditScore      10000 non-null  int64  \n",
      " 4   Geography        10000 non-null  object \n",
      " 5   Gender           10000 non-null  object \n",
      " 6   Age              10000 non-null  int64  \n",
      " 7   Tenure           10000 non-null  int64  \n",
      " 8   Balance          10000 non-null  float64\n",
      " 9   NumOfProducts    10000 non-null  int64  \n",
      " 10  HasCrCard        10000 non-null  int64  \n",
      " 11  IsActiveMember   10000 non-null  int64  \n",
      " 12  EstimatedSalary  10000 non-null  float64\n",
      " 13  Exited           10000 non-null  int64  \n",
      "dtypes: float64(2), int64(9), object(3)\n",
      "memory usage: 1.1+ MB\n"
     ]
    }
   ],
   "source": [
    "dataset.info()"
   ]
  },
  {
   "cell_type": "markdown",
   "id": "c3563d8b",
   "metadata": {},
   "source": [
    "<h6>Encoding categorical data</h6>"
   ]
  },
  {
   "cell_type": "markdown",
   "id": "6ddb3362",
   "metadata": {},
   "source": [
    "Label Encoding the \"Gender\" column"
   ]
  },
  {
   "cell_type": "code",
   "execution_count": 5,
   "id": "001338e5",
   "metadata": {},
   "outputs": [],
   "source": [
    "le = LabelEncoder()\n",
    "X[:, 2] = le.fit_transform(X[:, 2])"
   ]
  },
  {
   "cell_type": "markdown",
   "id": "158cab0f",
   "metadata": {},
   "source": [
    "One Hot Encoding the \"Geography\" column"
   ]
  },
  {
   "cell_type": "code",
   "execution_count": 6,
   "id": "b3764aba",
   "metadata": {},
   "outputs": [],
   "source": [
    "ct = ColumnTransformer(transformers=[('encoder', OneHotEncoder(), [1])], remainder='passthrough')\n",
    "X = np.array(ct.fit_transform(X))"
   ]
  },
  {
   "cell_type": "markdown",
   "id": "a264a95a",
   "metadata": {},
   "source": [
    "<h6>Splitting the dataset into the Training set and Test set</h6>"
   ]
  },
  {
   "cell_type": "code",
   "execution_count": 7,
   "id": "3832cb4c",
   "metadata": {},
   "outputs": [],
   "source": [
    "X_train, X_test, y_train, y_test = train_test_split(X, y, test_size = 0.2, random_state = 0)"
   ]
  },
  {
   "cell_type": "markdown",
   "id": "bdc25ea3",
   "metadata": {},
   "source": [
    "<h6>Feature Scaling</h6>"
   ]
  },
  {
   "cell_type": "code",
   "execution_count": 8,
   "id": "a5dd076e",
   "metadata": {},
   "outputs": [],
   "source": [
    "sc = StandardScaler()\n",
    "X_train = sc.fit_transform(X_train)\n",
    "X_test = sc.transform(X_test)"
   ]
  },
  {
   "cell_type": "markdown",
   "id": "37db266b",
   "metadata": {},
   "source": [
    "# Building the Model"
   ]
  },
  {
   "cell_type": "markdown",
   "id": "49248181",
   "metadata": {},
   "source": [
    "<h6>Initialising the ANN</h6>"
   ]
  },
  {
   "cell_type": "code",
   "execution_count": 9,
   "id": "1247c644",
   "metadata": {},
   "outputs": [],
   "source": [
    "classifier = Sequential()"
   ]
  },
  {
   "cell_type": "markdown",
   "id": "c59e62d2",
   "metadata": {},
   "source": [
    "<h6>Adding the input layer and the first hidden layer</h6>"
   ]
  },
  {
   "cell_type": "code",
   "execution_count": 10,
   "id": "594cdefa",
   "metadata": {},
   "outputs": [],
   "source": [
    "classifier.add(Dense(units=6, kernel_initializer = 'uniform', activation = 'relu', input_dim = 12))"
   ]
  },
  {
   "cell_type": "markdown",
   "id": "5c0bd94d",
   "metadata": {},
   "source": [
    "<h6>Adding the second hidden layer</h6>"
   ]
  },
  {
   "cell_type": "code",
   "execution_count": 11,
   "id": "b8e97424",
   "metadata": {},
   "outputs": [],
   "source": [
    "classifier.add(Dense(6, kernel_initializer = 'uniform', activation = 'relu'))"
   ]
  },
  {
   "cell_type": "markdown",
   "id": "42150d13",
   "metadata": {},
   "source": [
    "<h6>Adding the output layer</h6>"
   ]
  },
  {
   "cell_type": "code",
   "execution_count": 12,
   "id": "030757d8",
   "metadata": {},
   "outputs": [],
   "source": [
    "classifier.add(Dense(1, kernel_initializer = 'uniform', activation = 'sigmoid'))"
   ]
  },
  {
   "cell_type": "markdown",
   "id": "808696dc",
   "metadata": {},
   "source": [
    "# Training of the ANN"
   ]
  },
  {
   "cell_type": "markdown",
   "id": "6b7bbf17",
   "metadata": {},
   "source": [
    "<h6>Compiling the ANN (Configuring the learning process)</h6>"
   ]
  },
  {
   "cell_type": "code",
   "execution_count": 13,
   "id": "ac7dc875",
   "metadata": {},
   "outputs": [],
   "source": [
    "classifier.compile(optimizer = 'adam', loss = 'binary_crossentropy', metrics = ['accuracy'])"
   ]
  },
  {
   "cell_type": "markdown",
   "id": "6eb167a4",
   "metadata": {},
   "source": [
    "<h6>Fitting the ANN to the Training set</h6>"
   ]
  },
  {
   "cell_type": "code",
   "execution_count": 14,
   "id": "b6bcf417",
   "metadata": {},
   "outputs": [
    {
     "name": "stdout",
     "output_type": "stream",
     "text": [
      "Epoch 1/100\n",
      "800/800 [==============================] - 3s 3ms/step - loss: 0.4830 - accuracy: 0.7960\n",
      "Epoch 2/100\n",
      "800/800 [==============================] - 3s 3ms/step - loss: 0.4290 - accuracy: 0.7960\n",
      "Epoch 3/100\n",
      "800/800 [==============================] - 3s 3ms/step - loss: 0.4240 - accuracy: 0.7960\n",
      "Epoch 4/100\n",
      "800/800 [==============================] - 3s 3ms/step - loss: 0.4196 - accuracy: 0.8183\n",
      "Epoch 5/100\n",
      "800/800 [==============================] - 3s 3ms/step - loss: 0.4174 - accuracy: 0.8251\n",
      "Epoch 6/100\n",
      "800/800 [==============================] - 2s 3ms/step - loss: 0.4154 - accuracy: 0.8280\n",
      "Epoch 7/100\n",
      "800/800 [==============================] - 3s 3ms/step - loss: 0.4140 - accuracy: 0.8291\n",
      "Epoch 8/100\n",
      "800/800 [==============================] - 3s 3ms/step - loss: 0.4122 - accuracy: 0.8322\n",
      "Epoch 9/100\n",
      "800/800 [==============================] - 3s 3ms/step - loss: 0.4111 - accuracy: 0.8321\n",
      "Epoch 10/100\n",
      "800/800 [==============================] - 3s 3ms/step - loss: 0.4097 - accuracy: 0.8328\n",
      "Epoch 11/100\n",
      "800/800 [==============================] - 2s 3ms/step - loss: 0.4093 - accuracy: 0.8321\n",
      "Epoch 12/100\n",
      "800/800 [==============================] - 2s 3ms/step - loss: 0.4087 - accuracy: 0.8329\n",
      "Epoch 13/100\n",
      "800/800 [==============================] - 3s 3ms/step - loss: 0.4075 - accuracy: 0.8342\n",
      "Epoch 14/100\n",
      "800/800 [==============================] - 2s 3ms/step - loss: 0.4072 - accuracy: 0.8355\n",
      "Epoch 15/100\n",
      "800/800 [==============================] - 2s 3ms/step - loss: 0.4067 - accuracy: 0.8356\n",
      "Epoch 16/100\n",
      "800/800 [==============================] - 3s 3ms/step - loss: 0.4058 - accuracy: 0.8347\n",
      "Epoch 17/100\n",
      "800/800 [==============================] - 2s 3ms/step - loss: 0.4054 - accuracy: 0.8353\n",
      "Epoch 18/100\n",
      "800/800 [==============================] - 3s 3ms/step - loss: 0.4050 - accuracy: 0.8353\n",
      "Epoch 19/100\n",
      "800/800 [==============================] - 2s 3ms/step - loss: 0.4050 - accuracy: 0.8341\n",
      "Epoch 20/100\n",
      "800/800 [==============================] - 2s 3ms/step - loss: 0.4046 - accuracy: 0.8342\n",
      "Epoch 21/100\n",
      "800/800 [==============================] - 2s 3ms/step - loss: 0.4044 - accuracy: 0.8339\n",
      "Epoch 22/100\n",
      "800/800 [==============================] - 2s 3ms/step - loss: 0.4042 - accuracy: 0.8344\n",
      "Epoch 23/100\n",
      "800/800 [==============================] - 2s 3ms/step - loss: 0.4034 - accuracy: 0.8345\n",
      "Epoch 24/100\n",
      "800/800 [==============================] - 3s 3ms/step - loss: 0.4036 - accuracy: 0.8338\n",
      "Epoch 25/100\n",
      "800/800 [==============================] - 2s 3ms/step - loss: 0.4035 - accuracy: 0.8351\n",
      "Epoch 26/100\n",
      "800/800 [==============================] - 2s 3ms/step - loss: 0.4033 - accuracy: 0.8347\n",
      "Epoch 27/100\n",
      "800/800 [==============================] - 3s 3ms/step - loss: 0.4032 - accuracy: 0.8332\n",
      "Epoch 28/100\n",
      "800/800 [==============================] - 3s 3ms/step - loss: 0.4032 - accuracy: 0.8353\n",
      "Epoch 29/100\n",
      "800/800 [==============================] - 2s 3ms/step - loss: 0.4029 - accuracy: 0.8356\n",
      "Epoch 30/100\n",
      "800/800 [==============================] - 3s 3ms/step - loss: 0.4031 - accuracy: 0.8342\n",
      "Epoch 31/100\n",
      "800/800 [==============================] - 2s 3ms/step - loss: 0.4030 - accuracy: 0.8345\n",
      "Epoch 32/100\n",
      "800/800 [==============================] - 3s 3ms/step - loss: 0.4025 - accuracy: 0.8351\n",
      "Epoch 33/100\n",
      "800/800 [==============================] - 3s 3ms/step - loss: 0.4024 - accuracy: 0.8345\n",
      "Epoch 34/100\n",
      "800/800 [==============================] - 3s 3ms/step - loss: 0.4019 - accuracy: 0.8344\n",
      "Epoch 35/100\n",
      "800/800 [==============================] - 3s 3ms/step - loss: 0.4022 - accuracy: 0.8353\n",
      "Epoch 36/100\n",
      "800/800 [==============================] - 3s 3ms/step - loss: 0.4021 - accuracy: 0.8356\n",
      "Epoch 37/100\n",
      "800/800 [==============================] - 2s 3ms/step - loss: 0.4026 - accuracy: 0.8335\n",
      "Epoch 38/100\n",
      "800/800 [==============================] - 2s 3ms/step - loss: 0.4022 - accuracy: 0.8340\n",
      "Epoch 39/100\n",
      "800/800 [==============================] - 2s 3ms/step - loss: 0.4018 - accuracy: 0.8338\n",
      "Epoch 40/100\n",
      "800/800 [==============================] - 3s 3ms/step - loss: 0.4020 - accuracy: 0.8363\n",
      "Epoch 41/100\n",
      "800/800 [==============================] - 3s 3ms/step - loss: 0.4022 - accuracy: 0.8335\n",
      "Epoch 42/100\n",
      "800/800 [==============================] - 3s 3ms/step - loss: 0.4021 - accuracy: 0.8359\n",
      "Epoch 43/100\n",
      "800/800 [==============================] - 2s 3ms/step - loss: 0.4022 - accuracy: 0.8346\n",
      "Epoch 44/100\n",
      "800/800 [==============================] - 3s 3ms/step - loss: 0.4017 - accuracy: 0.8339\n",
      "Epoch 45/100\n",
      "800/800 [==============================] - 3s 3ms/step - loss: 0.4014 - accuracy: 0.8354\n",
      "Epoch 46/100\n",
      "800/800 [==============================] - 3s 3ms/step - loss: 0.4021 - accuracy: 0.8338\n",
      "Epoch 47/100\n",
      "800/800 [==============================] - 3s 3ms/step - loss: 0.4019 - accuracy: 0.8349\n",
      "Epoch 48/100\n",
      "800/800 [==============================] - 2s 3ms/step - loss: 0.4018 - accuracy: 0.8338\n",
      "Epoch 49/100\n",
      "800/800 [==============================] - 2s 3ms/step - loss: 0.4017 - accuracy: 0.8339\n",
      "Epoch 50/100\n",
      "800/800 [==============================] - 2s 3ms/step - loss: 0.4016 - accuracy: 0.8342\n",
      "Epoch 51/100\n",
      "800/800 [==============================] - 3s 3ms/step - loss: 0.4021 - accuracy: 0.8336\n",
      "Epoch 52/100\n",
      "800/800 [==============================] - 3s 3ms/step - loss: 0.4013 - accuracy: 0.8339\n",
      "Epoch 53/100\n",
      "800/800 [==============================] - 3s 3ms/step - loss: 0.4015 - accuracy: 0.8350\n",
      "Epoch 54/100\n",
      "800/800 [==============================] - 3s 3ms/step - loss: 0.4014 - accuracy: 0.8349\n",
      "Epoch 55/100\n",
      "800/800 [==============================] - 3s 3ms/step - loss: 0.4013 - accuracy: 0.8339\n",
      "Epoch 56/100\n",
      "800/800 [==============================] - 3s 3ms/step - loss: 0.4017 - accuracy: 0.8341\n",
      "Epoch 57/100\n",
      "800/800 [==============================] - 2s 3ms/step - loss: 0.4014 - accuracy: 0.8351\n",
      "Epoch 58/100\n",
      "800/800 [==============================] - 3s 3ms/step - loss: 0.4017 - accuracy: 0.8345\n",
      "Epoch 59/100\n",
      "800/800 [==============================] - 2s 3ms/step - loss: 0.4011 - accuracy: 0.8342\n",
      "Epoch 60/100\n",
      "800/800 [==============================] - 2s 3ms/step - loss: 0.4017 - accuracy: 0.8369\n",
      "Epoch 61/100\n",
      "800/800 [==============================] - 3s 3ms/step - loss: 0.4015 - accuracy: 0.8336\n",
      "Epoch 62/100\n",
      "800/800 [==============================] - 2s 3ms/step - loss: 0.4010 - accuracy: 0.8354\n",
      "Epoch 63/100\n",
      "800/800 [==============================] - 2s 3ms/step - loss: 0.4014 - accuracy: 0.8353\n",
      "Epoch 64/100\n",
      "800/800 [==============================] - 2s 3ms/step - loss: 0.4012 - accuracy: 0.8342\n",
      "Epoch 65/100\n",
      "800/800 [==============================] - 2s 3ms/step - loss: 0.4010 - accuracy: 0.8351\n",
      "Epoch 66/100\n",
      "800/800 [==============================] - 2s 3ms/step - loss: 0.4008 - accuracy: 0.8349\n",
      "Epoch 67/100\n",
      "800/800 [==============================] - 2s 3ms/step - loss: 0.4006 - accuracy: 0.8341\n",
      "Epoch 68/100\n",
      "800/800 [==============================] - 3s 3ms/step - loss: 0.4008 - accuracy: 0.8359\n",
      "Epoch 69/100\n",
      "800/800 [==============================] - 2s 3ms/step - loss: 0.4006 - accuracy: 0.8364\n",
      "Epoch 70/100\n",
      "800/800 [==============================] - 2s 3ms/step - loss: 0.4007 - accuracy: 0.8359\n",
      "Epoch 71/100\n",
      "800/800 [==============================] - 2s 3ms/step - loss: 0.4006 - accuracy: 0.8355\n",
      "Epoch 72/100\n",
      "800/800 [==============================] - 2s 3ms/step - loss: 0.4009 - accuracy: 0.8346\n",
      "Epoch 73/100\n",
      "800/800 [==============================] - 2s 3ms/step - loss: 0.4005 - accuracy: 0.8336\n",
      "Epoch 74/100\n",
      "800/800 [==============================] - 2s 3ms/step - loss: 0.4006 - accuracy: 0.8324\n",
      "Epoch 75/100\n",
      "800/800 [==============================] - 2s 3ms/step - loss: 0.4003 - accuracy: 0.8350\n",
      "Epoch 76/100\n",
      "800/800 [==============================] - 2s 3ms/step - loss: 0.4006 - accuracy: 0.8346\n",
      "Epoch 77/100\n",
      "800/800 [==============================] - 2s 3ms/step - loss: 0.4005 - accuracy: 0.8341\n",
      "Epoch 78/100\n",
      "800/800 [==============================] - 2s 3ms/step - loss: 0.4003 - accuracy: 0.8361\n",
      "Epoch 79/100\n",
      "800/800 [==============================] - 2s 3ms/step - loss: 0.4005 - accuracy: 0.8335\n",
      "Epoch 80/100\n",
      "800/800 [==============================] - 3s 3ms/step - loss: 0.4004 - accuracy: 0.8359\n",
      "Epoch 81/100\n"
     ]
    },
    {
     "name": "stdout",
     "output_type": "stream",
     "text": [
      "800/800 [==============================] - 3s 3ms/step - loss: 0.3998 - accuracy: 0.8338\n",
      "Epoch 82/100\n",
      "800/800 [==============================] - 2s 3ms/step - loss: 0.4002 - accuracy: 0.8360\n",
      "Epoch 83/100\n",
      "800/800 [==============================] - 2s 3ms/step - loss: 0.4003 - accuracy: 0.8349\n",
      "Epoch 84/100\n",
      "800/800 [==============================] - 2s 3ms/step - loss: 0.4001 - accuracy: 0.8357\n",
      "Epoch 85/100\n",
      "800/800 [==============================] - 2s 3ms/step - loss: 0.3999 - accuracy: 0.8354\n",
      "Epoch 86/100\n",
      "800/800 [==============================] - 2s 3ms/step - loss: 0.4004 - accuracy: 0.8355\n",
      "Epoch 87/100\n",
      "800/800 [==============================] - 2s 3ms/step - loss: 0.4000 - accuracy: 0.8339\n",
      "Epoch 88/100\n",
      "800/800 [==============================] - 2s 3ms/step - loss: 0.3999 - accuracy: 0.8357\n",
      "Epoch 89/100\n",
      "800/800 [==============================] - 2s 3ms/step - loss: 0.4003 - accuracy: 0.8329\n",
      "Epoch 90/100\n",
      "800/800 [==============================] - 2s 3ms/step - loss: 0.3996 - accuracy: 0.8341\n",
      "Epoch 91/100\n",
      "800/800 [==============================] - 2s 3ms/step - loss: 0.4002 - accuracy: 0.8345\n",
      "Epoch 92/100\n",
      "800/800 [==============================] - 2s 3ms/step - loss: 0.3998 - accuracy: 0.8338\n",
      "Epoch 93/100\n",
      "800/800 [==============================] - 2s 3ms/step - loss: 0.3999 - accuracy: 0.8349\n",
      "Epoch 94/100\n",
      "800/800 [==============================] - 2s 3ms/step - loss: 0.4000 - accuracy: 0.8347\n",
      "Epoch 95/100\n",
      "800/800 [==============================] - 2s 3ms/step - loss: 0.4001 - accuracy: 0.8350\n",
      "Epoch 96/100\n",
      "800/800 [==============================] - 3s 3ms/step - loss: 0.3997 - accuracy: 0.8349\n",
      "Epoch 97/100\n",
      "800/800 [==============================] - 3s 3ms/step - loss: 0.4003 - accuracy: 0.8347\n",
      "Epoch 98/100\n",
      "800/800 [==============================] - 3s 3ms/step - loss: 0.4000 - accuracy: 0.8351\n",
      "Epoch 99/100\n",
      "800/800 [==============================] - 3s 3ms/step - loss: 0.3999 - accuracy: 0.8350\n",
      "Epoch 100/100\n",
      "800/800 [==============================] - 3s 3ms/step - loss: 0.4003 - accuracy: 0.8339\n"
     ]
    },
    {
     "data": {
      "text/plain": [
       "<keras.callbacks.History at 0x1cb4f98f4f0>"
      ]
     },
     "execution_count": 14,
     "metadata": {},
     "output_type": "execute_result"
    }
   ],
   "source": [
    "classifier.fit(X_train, y_train, batch_size = 10, epochs = 100)"
   ]
  },
  {
   "cell_type": "markdown",
   "id": "943f2c15",
   "metadata": {},
   "source": [
    "# Making the predictions and Evaluating the model"
   ]
  },
  {
   "cell_type": "markdown",
   "id": "c3e5e5d2",
   "metadata": {},
   "source": [
    "<h6>Predicting the Test set results</h6>"
   ]
  },
  {
   "cell_type": "code",
   "execution_count": 15,
   "id": "0e8def94",
   "metadata": {},
   "outputs": [
    {
     "name": "stdout",
     "output_type": "stream",
     "text": [
      "63/63 [==============================] - 0s 2ms/step\n"
     ]
    }
   ],
   "source": [
    "y_pred = classifier.predict(X_test)\n",
    "y_pred = (y_pred > 0.5)"
   ]
  },
  {
   "cell_type": "markdown",
   "id": "bad701b0",
   "metadata": {},
   "source": [
    "<h6>Making the Confusion Matrix</h6>"
   ]
  },
  {
   "cell_type": "code",
   "execution_count": 16,
   "id": "08a3a9a6",
   "metadata": {},
   "outputs": [
    {
     "data": {
      "image/png": "[encoded data removed]",
      "text/plain": [
       "<Figure size 720x504 with 2 Axes>"
      ]
     },
     "metadata": {
      "needs_background": "light"
     },
     "output_type": "display_data"
    }
   ],
   "source": [
    "cm = confusion_matrix(y_test, y_pred)\n",
    "plt.figure(figsize = (10,7))\n",
    "sns.set(font_scale=1.4)\n",
    "plt.title('Confusion Matrix')\n",
    "sns.heatmap(cm, annot=True)\n",
    "plt.show()"
   ]
  }
 ],
 "metadata": {
  "kernelspec": {
   "display_name": "Python 3 (ipykernel)",
   "language": "python",
   "name": "python3"
  },
  "language_info": {
   "codemirror_mode": {
    "name": "ipython",
    "version": 3
   },
   "file_extension": ".py",
   "mimetype": "text/x-python",
   "name": "python",
   "nbconvert_exporter": "python",
   "pygments_lexer": "ipython3",
   "version": "3.9.6"
  }
 },
 "nbformat": 4,
 "nbformat_minor": 5
}
