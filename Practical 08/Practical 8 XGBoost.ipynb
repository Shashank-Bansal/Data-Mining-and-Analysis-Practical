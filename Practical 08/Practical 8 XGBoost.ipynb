{
 "cells": [
  {
   "cell_type": "markdown",
   "id": "654202d6",
   "metadata": {
    "papermill": {
     "duration": 0.026653,
     "end_time": "2022-04-29T14:05:51.358836",
     "exception": false,
     "start_time": "2022-04-29T14:05:51.332183",
     "status": "completed"
    },
    "tags": []
   },
   "source": [
    "### Importing Libraries"
   ]
  },
  {
   "cell_type": "code",
   "execution_count": 1,
   "id": "996a3ff2",
   "metadata": {
    "_cell_guid": "b1076dfc-b9ad-4769-8c92-a6c4dae69d19",
    "_uuid": "8f2839f25d086af736a60e9eeb907d3b93b6e0e5",
    "execution": {
     "iopub.execute_input": "2022-04-29T14:05:51.411309Z",
     "iopub.status.busy": "2022-04-29T14:05:51.410937Z",
     "iopub.status.idle": "2022-04-29T14:05:52.695822Z",
     "shell.execute_reply": "2022-04-29T14:05:52.694937Z"
    },
    "papermill": {
     "duration": 1.314358,
     "end_time": "2022-04-29T14:05:52.698587",
     "exception": false,
     "start_time": "2022-04-29T14:05:51.384229",
     "status": "completed"
    },
    "tags": []
   },
   "outputs": [],
   "source": [
    "import numpy as np\n",
    "import pandas as pd\n",
    "import matplotlib.pyplot as plt\n",
    "import seaborn as sns\n",
    "from sklearn.preprocessing import LabelEncoder\n",
    "from sklearn.compose import ColumnTransformer\n",
    "from sklearn.preprocessing import OneHotEncoder\n",
    "from sklearn.model_selection import train_test_split\n",
    "from sklearn.metrics import confusion_matrix\n",
    "from sklearn.model_selection import cross_val_score\n",
    "from sklearn.model_selection import GridSearchCV\n",
    "from xgboost import XGBClassifier"
   ]
  },
  {
   "cell_type": "markdown",
   "id": "8ff0d4c7",
   "metadata": {
    "papermill": {
     "duration": 0.028422,
     "end_time": "2022-04-29T14:05:52.755349",
     "exception": false,
     "start_time": "2022-04-29T14:05:52.726927",
     "status": "completed"
    },
    "tags": []
   },
   "source": [
    "### Importing Dataset"
   ]
  },
  {
   "cell_type": "code",
   "execution_count": 2,
   "id": "2659f6a9",
   "metadata": {
    "execution": {
     "iopub.execute_input": "2022-04-29T14:05:52.815037Z",
     "iopub.status.busy": "2022-04-29T14:05:52.814338Z",
     "iopub.status.idle": "2022-04-29T14:05:52.888373Z",
     "shell.execute_reply": "2022-04-29T14:05:52.887723Z"
    },
    "papermill": {
     "duration": 0.105424,
     "end_time": "2022-04-29T14:05:52.891184",
     "exception": false,
     "start_time": "2022-04-29T14:05:52.785760",
     "status": "completed"
    },
    "tags": []
   },
   "outputs": [],
   "source": [
    "dataset = pd.read_csv('Churn_Modelling.csv')\n",
    "X = dataset.iloc[:, 3:-1].values\n",
    "y = dataset.iloc[:, -1].values"
   ]
  },
  {
   "cell_type": "code",
   "execution_count": 3,
   "id": "62a1a572",
   "metadata": {
    "scrolled": true
   },
   "outputs": [
    {
     "data": {
      "text/html": [
       "<div>\n",
       "<style scoped>\n",
       "    .dataframe tbody tr th:only-of-type {\n",
       "        vertical-align: middle;\n",
       "    }\n",
       "\n",
       "    .dataframe tbody tr th {\n",
       "        vertical-align: top;\n",
       "    }\n",
       "\n",
       "    .dataframe thead th {\n",
       "        text-align: right;\n",
       "    }\n",
       "</style>\n",
       "<table border=\"1\" class=\"dataframe\">\n",
       "  <thead>\n",
       "    <tr style=\"text-align: right;\">\n",
       "      <th></th>\n",
       "      <th>RowNumber</th>\n",
       "      <th>CustomerId</th>\n",
       "      <th>Surname</th>\n",
       "      <th>CreditScore</th>\n",
       "      <th>Geography</th>\n",
       "      <th>Gender</th>\n",
       "      <th>Age</th>\n",
       "      <th>Tenure</th>\n",
       "      <th>Balance</th>\n",
       "      <th>NumOfProducts</th>\n",
       "      <th>HasCrCard</th>\n",
       "      <th>IsActiveMember</th>\n",
       "      <th>EstimatedSalary</th>\n",
       "      <th>Exited</th>\n",
       "    </tr>\n",
       "  </thead>\n",
       "  <tbody>\n",
       "    <tr>\n",
       "      <th>0</th>\n",
       "      <td>1</td>\n",
       "      <td>15634602</td>\n",
       "      <td>Hargrave</td>\n",
       "      <td>619</td>\n",
       "      <td>France</td>\n",
       "      <td>Female</td>\n",
       "      <td>42</td>\n",
       "      <td>2</td>\n",
       "      <td>0.00</td>\n",
       "      <td>1</td>\n",
       "      <td>1</td>\n",
       "      <td>1</td>\n",
       "      <td>101348.88</td>\n",
       "      <td>1</td>\n",
       "    </tr>\n",
       "    <tr>\n",
       "      <th>1</th>\n",
       "      <td>2</td>\n",
       "      <td>15647311</td>\n",
       "      <td>Hill</td>\n",
       "      <td>608</td>\n",
       "      <td>Spain</td>\n",
       "      <td>Female</td>\n",
       "      <td>41</td>\n",
       "      <td>1</td>\n",
       "      <td>83807.86</td>\n",
       "      <td>1</td>\n",
       "      <td>0</td>\n",
       "      <td>1</td>\n",
       "      <td>112542.58</td>\n",
       "      <td>0</td>\n",
       "    </tr>\n",
       "    <tr>\n",
       "      <th>2</th>\n",
       "      <td>3</td>\n",
       "      <td>15619304</td>\n",
       "      <td>Onio</td>\n",
       "      <td>502</td>\n",
       "      <td>France</td>\n",
       "      <td>Female</td>\n",
       "      <td>42</td>\n",
       "      <td>8</td>\n",
       "      <td>159660.80</td>\n",
       "      <td>3</td>\n",
       "      <td>1</td>\n",
       "      <td>0</td>\n",
       "      <td>113931.57</td>\n",
       "      <td>1</td>\n",
       "    </tr>\n",
       "    <tr>\n",
       "      <th>3</th>\n",
       "      <td>4</td>\n",
       "      <td>15701354</td>\n",
       "      <td>Boni</td>\n",
       "      <td>699</td>\n",
       "      <td>France</td>\n",
       "      <td>Female</td>\n",
       "      <td>39</td>\n",
       "      <td>1</td>\n",
       "      <td>0.00</td>\n",
       "      <td>2</td>\n",
       "      <td>0</td>\n",
       "      <td>0</td>\n",
       "      <td>93826.63</td>\n",
       "      <td>0</td>\n",
       "    </tr>\n",
       "    <tr>\n",
       "      <th>4</th>\n",
       "      <td>5</td>\n",
       "      <td>15737888</td>\n",
       "      <td>Mitchell</td>\n",
       "      <td>850</td>\n",
       "      <td>Spain</td>\n",
       "      <td>Female</td>\n",
       "      <td>43</td>\n",
       "      <td>2</td>\n",
       "      <td>125510.82</td>\n",
       "      <td>1</td>\n",
       "      <td>1</td>\n",
       "      <td>1</td>\n",
       "      <td>79084.10</td>\n",
       "      <td>0</td>\n",
       "    </tr>\n",
       "  </tbody>\n",
       "</table>\n",
       "</div>"
      ],
      "text/plain": [
       "   RowNumber  CustomerId   Surname  CreditScore Geography  Gender  Age  \\\n",
       "0          1    15634602  Hargrave          619    France  Female   42   \n",
       "1          2    15647311      Hill          608     Spain  Female   41   \n",
       "2          3    15619304      Onio          502    France  Female   42   \n",
       "3          4    15701354      Boni          699    France  Female   39   \n",
       "4          5    15737888  Mitchell          850     Spain  Female   43   \n",
       "\n",
       "   Tenure    Balance  NumOfProducts  HasCrCard  IsActiveMember  \\\n",
       "0       2       0.00              1          1               1   \n",
       "1       1   83807.86              1          0               1   \n",
       "2       8  159660.80              3          1               0   \n",
       "3       1       0.00              2          0               0   \n",
       "4       2  125510.82              1          1               1   \n",
       "\n",
       "   EstimatedSalary  Exited  \n",
       "0        101348.88       1  \n",
       "1        112542.58       0  \n",
       "2        113931.57       1  \n",
       "3         93826.63       0  \n",
       "4         79084.10       0  "
      ]
     },
     "execution_count": 3,
     "metadata": {},
     "output_type": "execute_result"
    }
   ],
   "source": [
    "dataset.head()"
   ]
  },
  {
   "cell_type": "code",
   "execution_count": 4,
   "id": "c36f5c1c",
   "metadata": {},
   "outputs": [
    {
     "name": "stdout",
     "output_type": "stream",
     "text": [
      "<class 'pandas.core.frame.DataFrame'>\n",
      "RangeIndex: 10000 entries, 0 to 9999\n",
      "Data columns (total 14 columns):\n",
      " #   Column           Non-Null Count  Dtype  \n",
      "---  ------           --------------  -----  \n",
      " 0   RowNumber        10000 non-null  int64  \n",
      " 1   CustomerId       10000 non-null  int64  \n",
      " 2   Surname          10000 non-null  object \n",
      " 3   CreditScore      10000 non-null  int64  \n",
      " 4   Geography        10000 non-null  object \n",
      " 5   Gender           10000 non-null  object \n",
      " 6   Age              10000 non-null  int64  \n",
      " 7   Tenure           10000 non-null  int64  \n",
      " 8   Balance          10000 non-null  float64\n",
      " 9   NumOfProducts    10000 non-null  int64  \n",
      " 10  HasCrCard        10000 non-null  int64  \n",
      " 11  IsActiveMember   10000 non-null  int64  \n",
      " 12  EstimatedSalary  10000 non-null  float64\n",
      " 13  Exited           10000 non-null  int64  \n",
      "dtypes: float64(2), int64(9), object(3)\n",
      "memory usage: 1.1+ MB\n"
     ]
    }
   ],
   "source": [
    "dataset.info()"
   ]
  },
  {
   "cell_type": "markdown",
   "id": "ce7f214d",
   "metadata": {
    "papermill": {
     "duration": 0.032266,
     "end_time": "2022-04-29T14:05:52.956783",
     "exception": false,
     "start_time": "2022-04-29T14:05:52.924517",
     "status": "completed"
    },
    "tags": []
   },
   "source": [
    "### Label Encoding the \"Gender\" column"
   ]
  },
  {
   "cell_type": "code",
   "execution_count": 5,
   "id": "2487d114",
   "metadata": {
    "execution": {
     "iopub.execute_input": "2022-04-29T14:05:53.012542Z",
     "iopub.status.busy": "2022-04-29T14:05:53.011820Z",
     "iopub.status.idle": "2022-04-29T14:05:53.022119Z",
     "shell.execute_reply": "2022-04-29T14:05:53.020937Z"
    },
    "papermill": {
     "duration": 0.042354,
     "end_time": "2022-04-29T14:05:53.024893",
     "exception": false,
     "start_time": "2022-04-29T14:05:52.982539",
     "status": "completed"
    },
    "tags": []
   },
   "outputs": [],
   "source": [
    "le = LabelEncoder()\n",
    "X[:, 2] = le.fit_transform(X[:, 2])"
   ]
  },
  {
   "cell_type": "markdown",
   "id": "ac274fa8",
   "metadata": {
    "papermill": {
     "duration": 0.029093,
     "end_time": "2022-04-29T14:05:53.087646",
     "exception": false,
     "start_time": "2022-04-29T14:05:53.058553",
     "status": "completed"
    },
    "tags": []
   },
   "source": [
    "### One Hot Encoding the \"Geography\" column"
   ]
  },
  {
   "cell_type": "code",
   "execution_count": 6,
   "id": "67d60d08",
   "metadata": {
    "execution": {
     "iopub.execute_input": "2022-04-29T14:05:53.145359Z",
     "iopub.status.busy": "2022-04-29T14:05:53.144276Z",
     "iopub.status.idle": "2022-04-29T14:05:53.169760Z",
     "shell.execute_reply": "2022-04-29T14:05:53.168705Z"
    },
    "papermill": {
     "duration": 0.057359,
     "end_time": "2022-04-29T14:05:53.172190",
     "exception": false,
     "start_time": "2022-04-29T14:05:53.114831",
     "status": "completed"
    },
    "tags": []
   },
   "outputs": [],
   "source": [
    "le = LabelEncoder()\n",
    "X[:, 2] = le.fit_transform(X[:, 2])\n",
    "ct = ColumnTransformer(transformers=[('encoder', OneHotEncoder(), [1])], remainder='passthrough')\n",
    "X = np.array(ct.fit_transform(X))"
   ]
  },
  {
   "cell_type": "markdown",
   "id": "e859d2b6",
   "metadata": {
    "papermill": {
     "duration": 0.025677,
     "end_time": "2022-04-29T14:05:53.225482",
     "exception": false,
     "start_time": "2022-04-29T14:05:53.199805",
     "status": "completed"
    },
    "tags": []
   },
   "source": [
    "### Splitting the dataset into the Training set and Test set"
   ]
  },
  {
   "cell_type": "code",
   "execution_count": 7,
   "id": "d55226a4",
   "metadata": {
    "execution": {
     "iopub.execute_input": "2022-04-29T14:05:53.278610Z",
     "iopub.status.busy": "2022-04-29T14:05:53.278231Z",
     "iopub.status.idle": "2022-04-29T14:05:53.288280Z",
     "shell.execute_reply": "2022-04-29T14:05:53.287395Z"
    },
    "papermill": {
     "duration": 0.039683,
     "end_time": "2022-04-29T14:05:53.290683",
     "exception": false,
     "start_time": "2022-04-29T14:05:53.251000",
     "status": "completed"
    },
    "tags": []
   },
   "outputs": [],
   "source": [
    "X_train, X_test, y_train, y_test = train_test_split(X, y, test_size = 0.2, random_state = 0)"
   ]
  },
  {
   "cell_type": "markdown",
   "id": "6a63c79d",
   "metadata": {
    "papermill": {
     "duration": 0.02505,
     "end_time": "2022-04-29T14:05:53.341449",
     "exception": false,
     "start_time": "2022-04-29T14:05:53.316399",
     "status": "completed"
    },
    "tags": []
   },
   "source": [
    "### Training XGBoost on the Training set"
   ]
  },
  {
   "cell_type": "code",
   "execution_count": 8,
   "id": "f816b6be",
   "metadata": {
    "execution": {
     "iopub.execute_input": "2022-04-29T14:05:53.394399Z",
     "iopub.status.busy": "2022-04-29T14:05:53.394024Z",
     "iopub.status.idle": "2022-04-29T14:05:54.662096Z",
     "shell.execute_reply": "2022-04-29T14:05:54.661144Z"
    },
    "papermill": {
     "duration": 1.297632,
     "end_time": "2022-04-29T14:05:54.664529",
     "exception": false,
     "start_time": "2022-04-29T14:05:53.366897",
     "status": "completed"
    },
    "tags": []
   },
   "outputs": [
    {
     "data": {
      "text/plain": [
       "XGBClassifier(base_score=0.5, booster='gbtree', callbacks=None,\n",
       "              colsample_bylevel=1, colsample_bynode=1, colsample_bytree=1,\n",
       "              early_stopping_rounds=None, enable_categorical=False,\n",
       "              eval_metric=None, gamma=0, gpu_id=-1, grow_policy='depthwise',\n",
       "              importance_type=None, interaction_constraints='',\n",
       "              learning_rate=0.300000012, max_bin=256, max_cat_to_onehot=4,\n",
       "              max_delta_step=0, max_depth=6, max_leaves=0, min_child_weight=1,\n",
       "              missing=nan, monotone_constraints='()', n_estimators=100,\n",
       "              n_jobs=0, num_parallel_tree=1, predictor='auto', random_state=0,\n",
       "              reg_alpha=0, reg_lambda=1, ...)"
      ]
     },
     "execution_count": 8,
     "metadata": {},
     "output_type": "execute_result"
    }
   ],
   "source": [
    "classifier = XGBClassifier()\n",
    "classifier.fit(X_train, y_train)"
   ]
  },
  {
   "cell_type": "markdown",
   "id": "faaa3f37",
   "metadata": {
    "papermill": {
     "duration": 0.026304,
     "end_time": "2022-04-29T14:05:54.717982",
     "exception": false,
     "start_time": "2022-04-29T14:05:54.691678",
     "status": "completed"
    },
    "tags": []
   },
   "source": [
    "### Predicting the test results"
   ]
  },
  {
   "cell_type": "code",
   "execution_count": 9,
   "id": "2e8e8dcf",
   "metadata": {
    "execution": {
     "iopub.execute_input": "2022-04-29T14:05:54.773224Z",
     "iopub.status.busy": "2022-04-29T14:05:54.772934Z",
     "iopub.status.idle": "2022-04-29T14:05:54.789011Z",
     "shell.execute_reply": "2022-04-29T14:05:54.788081Z"
    },
    "papermill": {
     "duration": 0.047443,
     "end_time": "2022-04-29T14:05:54.792207",
     "exception": false,
     "start_time": "2022-04-29T14:05:54.744764",
     "status": "completed"
    },
    "tags": []
   },
   "outputs": [],
   "source": [
    "y_pred = classifier.predict(X_test)"
   ]
  },
  {
   "cell_type": "markdown",
   "id": "cc160a9f",
   "metadata": {
    "papermill": {
     "duration": 0.026096,
     "end_time": "2022-04-29T14:05:54.845991",
     "exception": false,
     "start_time": "2022-04-29T14:05:54.819895",
     "status": "completed"
    },
    "tags": []
   },
   "source": [
    "### Making the confusion matrix"
   ]
  },
  {
   "cell_type": "code",
   "execution_count": 10,
   "id": "0ddacc1c",
   "metadata": {
    "execution": {
     "iopub.execute_input": "2022-04-29T14:05:54.900297Z",
     "iopub.status.busy": "2022-04-29T14:05:54.900029Z",
     "iopub.status.idle": "2022-04-29T14:05:54.907125Z",
     "shell.execute_reply": "2022-04-29T14:05:54.906292Z"
    },
    "papermill": {
     "duration": 0.036858,
     "end_time": "2022-04-29T14:05:54.909279",
     "exception": false,
     "start_time": "2022-04-29T14:05:54.872421",
     "status": "completed"
    },
    "tags": []
   },
   "outputs": [
    {
     "data": {
      "image/png": "[encoded data removed]",
      "text/plain": [
       "<Figure size 720x504 with 2 Axes>"
      ]
     },
     "metadata": {
      "needs_background": "light"
     },
     "output_type": "display_data"
    }
   ],
   "source": [
    "cm = confusion_matrix(y_test, y_pred)\n",
    "plt.figure(figsize = (10,7))\n",
    "sns.set(font_scale=1.4)\n",
    "plt.title('Confusion Matrix')\n",
    "sns.heatmap(cm, annot=True)\n",
    "plt.show()"
   ]
  },
  {
   "cell_type": "markdown",
   "id": "bf39039e",
   "metadata": {
    "papermill": {
     "duration": 0.026041,
     "end_time": "2022-04-29T14:05:54.961835",
     "exception": false,
     "start_time": "2022-04-29T14:05:54.935794",
     "status": "completed"
    },
    "tags": []
   },
   "source": [
    "### Applying k-Fold Cross Validation"
   ]
  },
  {
   "cell_type": "code",
   "execution_count": 11,
   "id": "3a9cdae0",
   "metadata": {
    "execution": {
     "iopub.execute_input": "2022-04-29T14:05:55.018557Z",
     "iopub.status.busy": "2022-04-29T14:05:55.017688Z",
     "iopub.status.idle": "2022-04-29T14:06:04.687821Z",
     "shell.execute_reply": "2022-04-29T14:06:04.687143Z"
    },
    "papermill": {
     "duration": 9.701713,
     "end_time": "2022-04-29T14:06:04.690026",
     "exception": false,
     "start_time": "2022-04-29T14:05:54.988313",
     "status": "completed"
    },
    "tags": []
   },
   "outputs": [
    {
     "name": "stdout",
     "output_type": "stream",
     "text": [
      "Accuracy: 85.25 %\n",
      "Standard Deviation: 1.39 %\n"
     ]
    }
   ],
   "source": [
    "accuracies = cross_val_score(estimator = classifier, X = X_train, y = y_train, cv = 10)\n",
    "print(\"Accuracy: {:.2f} %\".format(accuracies.mean()*100))\n",
    "print(\"Standard Deviation: {:.2f} %\".format(accuracies.std()*100))"
   ]
  },
  {
   "cell_type": "markdown",
   "id": "23c27c87",
   "metadata": {
    "papermill": {
     "duration": 0.034403,
     "end_time": "2022-04-29T14:06:04.760480",
     "exception": false,
     "start_time": "2022-04-29T14:06:04.726077",
     "status": "completed"
    },
    "tags": []
   },
   "source": [
    "### Applying Grid Search to find the best model and the best parameters"
   ]
  },
  {
   "cell_type": "markdown",
   "id": "035c601e",
   "metadata": {
    "papermill": {
     "duration": 0.033851,
     "end_time": "2022-04-29T14:06:04.828526",
     "exception": false,
     "start_time": "2022-04-29T14:06:04.794675",
     "status": "completed"
    },
    "tags": []
   },
   "source": [
    "#### Defining parameters to be tuned\n"
   ]
  },
  {
   "cell_type": "code",
   "execution_count": 12,
   "id": "a66be5ba",
   "metadata": {
    "execution": {
     "iopub.execute_input": "2022-04-29T14:06:04.899264Z",
     "iopub.status.busy": "2022-04-29T14:06:04.898986Z",
     "iopub.status.idle": "2022-04-29T14:06:04.903534Z",
     "shell.execute_reply": "2022-04-29T14:06:04.902664Z"
    },
    "papermill": {
     "duration": 0.043528,
     "end_time": "2022-04-29T14:06:04.906089",
     "exception": false,
     "start_time": "2022-04-29T14:06:04.862561",
     "status": "completed"
    },
    "tags": []
   },
   "outputs": [],
   "source": [
    "parameters = [{'max_depth': [3], 'n_estimators': [100]}]"
   ]
  },
  {
   "cell_type": "markdown",
   "id": "c09752b4",
   "metadata": {
    "papermill": {
     "duration": 0.033975,
     "end_time": "2022-04-29T14:06:04.975160",
     "exception": false,
     "start_time": "2022-04-29T14:06:04.941185",
     "status": "completed"
    },
    "tags": []
   },
   "source": [
    "#### Creating object of GridSearchCV class"
   ]
  },
  {
   "cell_type": "code",
   "execution_count": 13,
   "id": "e51a121f",
   "metadata": {
    "execution": {
     "iopub.execute_input": "2022-04-29T14:06:05.045310Z",
     "iopub.status.busy": "2022-04-29T14:06:05.045012Z",
     "iopub.status.idle": "2022-04-29T14:06:05.049547Z",
     "shell.execute_reply": "2022-04-29T14:06:05.048588Z"
    },
    "papermill": {
     "duration": 0.041973,
     "end_time": "2022-04-29T14:06:05.051535",
     "exception": false,
     "start_time": "2022-04-29T14:06:05.009562",
     "status": "completed"
    },
    "scrolled": true,
    "tags": []
   },
   "outputs": [],
   "source": [
    "grid_search = GridSearchCV(estimator = classifier, param_grid = parameters, scoring = 'accuracy', cv = 10, n_jobs = -1)"
   ]
  },
  {
   "cell_type": "markdown",
   "id": "09951e93",
   "metadata": {
    "papermill": {
     "duration": 0.034045,
     "end_time": "2022-04-29T14:06:05.121014",
     "exception": false,
     "start_time": "2022-04-29T14:06:05.086969",
     "status": "completed"
    },
    "tags": []
   },
   "source": [
    "#### Fitting the Grid Search to the training set"
   ]
  },
  {
   "cell_type": "code",
   "execution_count": 14,
   "id": "444213b0",
   "metadata": {
    "execution": {
     "iopub.execute_input": "2022-04-29T14:06:05.190678Z",
     "iopub.status.busy": "2022-04-29T14:06:05.190370Z",
     "iopub.status.idle": "2022-04-29T14:07:53.064968Z",
     "shell.execute_reply": "2022-04-29T14:07:53.061642Z"
    },
    "papermill": {
     "duration": 107.913857,
     "end_time": "2022-04-29T14:07:53.069030",
     "exception": false,
     "start_time": "2022-04-29T14:06:05.155173",
     "status": "completed"
    },
    "tags": []
   },
   "outputs": [],
   "source": [
    "grid_search = grid_search.fit(X_train, y_train)"
   ]
  },
  {
   "cell_type": "markdown",
   "id": "f10a7590",
   "metadata": {
    "papermill": {
     "duration": 0.038326,
     "end_time": "2022-04-29T14:07:53.150271",
     "exception": false,
     "start_time": "2022-04-29T14:07:53.111945",
     "status": "completed"
    },
    "tags": []
   },
   "source": [
    "### Getting best metric value (Mean of 10 accuracies)"
   ]
  },
  {
   "cell_type": "code",
   "execution_count": 15,
   "id": "d92b095f",
   "metadata": {
    "execution": {
     "iopub.execute_input": "2022-04-29T14:07:53.221627Z",
     "iopub.status.busy": "2022-04-29T14:07:53.221297Z",
     "iopub.status.idle": "2022-04-29T14:07:53.226040Z",
     "shell.execute_reply": "2022-04-29T14:07:53.224985Z"
    },
    "papermill": {
     "duration": 0.043279,
     "end_time": "2022-04-29T14:07:53.228190",
     "exception": false,
     "start_time": "2022-04-29T14:07:53.184911",
     "status": "completed"
    },
    "tags": []
   },
   "outputs": [],
   "source": [
    "best_accuracy =grid_search.best_score_"
   ]
  },
  {
   "cell_type": "markdown",
   "id": "b3213c3c",
   "metadata": {
    "papermill": {
     "duration": 0.034468,
     "end_time": "2022-04-29T14:07:53.298057",
     "exception": false,
     "start_time": "2022-04-29T14:07:53.263589",
     "status": "completed"
    },
    "tags": []
   },
   "source": [
    "### Getting best suited parameters’ values"
   ]
  },
  {
   "cell_type": "code",
   "execution_count": 16,
   "id": "5617af89",
   "metadata": {
    "execution": {
     "iopub.execute_input": "2022-04-29T14:07:53.370159Z",
     "iopub.status.busy": "2022-04-29T14:07:53.369867Z",
     "iopub.status.idle": "2022-04-29T14:07:53.373400Z",
     "shell.execute_reply": "2022-04-29T14:07:53.372774Z"
    },
    "papermill": {
     "duration": 0.042519,
     "end_time": "2022-04-29T14:07:53.375247",
     "exception": false,
     "start_time": "2022-04-29T14:07:53.332728",
     "status": "completed"
    },
    "tags": []
   },
   "outputs": [],
   "source": [
    "best_parameters = grid_search.best_params_"
   ]
  },
  {
   "cell_type": "markdown",
   "id": "ae5c9e1e",
   "metadata": {
    "papermill": {
     "duration": 0.034354,
     "end_time": "2022-04-29T14:07:53.444706",
     "exception": false,
     "start_time": "2022-04-29T14:07:53.410352",
     "status": "completed"
    },
    "tags": []
   },
   "source": [
    "### Printing the metric and the parameters\n"
   ]
  },
  {
   "cell_type": "code",
   "execution_count": 17,
   "id": "a0b57d99",
   "metadata": {
    "execution": {
     "iopub.execute_input": "2022-04-29T14:07:53.515829Z",
     "iopub.status.busy": "2022-04-29T14:07:53.515533Z",
     "iopub.status.idle": "2022-04-29T14:07:53.520970Z",
     "shell.execute_reply": "2022-04-29T14:07:53.519869Z"
    },
    "papermill": {
     "duration": 0.043338,
     "end_time": "2022-04-29T14:07:53.522895",
     "exception": false,
     "start_time": "2022-04-29T14:07:53.479557",
     "status": "completed"
    },
    "scrolled": true,
    "tags": []
   },
   "outputs": [
    {
     "name": "stdout",
     "output_type": "stream",
     "text": [
      "Best Accuracy: 86.15 %\n",
      "Best Parameters: {'max_depth': 3, 'n_estimators': 100}\n"
     ]
    }
   ],
   "source": [
    "print(\"Best Accuracy: {:.2f} %\".format(best_accuracy*100))\n",
    "print(\"Best Parameters:\", best_parameters)"
   ]
  }
 ],
 "metadata": {
  "kernelspec": {
   "display_name": "Python 3 (ipykernel)",
   "language": "python",
   "name": "python3"
  },
  "language_info": {
   "codemirror_mode": {
    "name": "ipython",
    "version": 3
   },
   "file_extension": ".py",
   "mimetype": "text/x-python",
   "name": "python",
   "nbconvert_exporter": "python",
   "pygments_lexer": "ipython3",
   "version": "3.9.6"
  },
  "papermill": {
   "default_parameters": {},
   "duration": 134.698597,
   "end_time": "2022-04-29T14:07:56.249130",
   "environment_variables": {},
   "exception": null,
   "input_path": "__notebook__.ipynb",
   "output_path": "__notebook__.ipynb",
   "parameters": {},
   "start_time": "2022-04-29T14:05:41.550533",
   "version": "2.3.4"
  }
 },
 "nbformat": 4,
 "nbformat_minor": 5
}
