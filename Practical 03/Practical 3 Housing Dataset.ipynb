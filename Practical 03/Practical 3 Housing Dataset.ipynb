{
 "cells": [
  {
   "cell_type": "code",
   "execution_count": 1,
   "metadata": {
    "_cell_guid": "b1076dfc-b9ad-4769-8c92-a6c4dae69d19",
    "_uuid": "8f2839f25d086af736a60e9eeb907d3b93b6e0e5",
    "execution": {
     "iopub.execute_input": "2022-03-05T18:15:59.509665Z",
     "iopub.status.busy": "2022-03-05T18:15:59.509363Z",
     "iopub.status.idle": "2022-03-05T18:15:59.516549Z",
     "shell.execute_reply": "2022-03-05T18:15:59.515613Z",
     "shell.execute_reply.started": "2022-03-05T18:15:59.509636Z"
    }
   },
   "outputs": [],
   "source": [
    "import numpy as np\n",
    "import pandas as pd\n",
    "import matplotlib.pyplot as plt\n",
    "\n",
    "# preprocessing\n",
    "from sklearn.model_selection import train_test_split\n",
    "from sklearn.preprocessing import PowerTransformer\n",
    "\n",
    "#models\n",
    "from sklearn.linear_model import LinearRegression\n",
    "from sklearn.tree import DecisionTreeRegressor\n",
    "from sklearn.svm import SVR"
   ]
  },
  {
   "cell_type": "markdown",
   "metadata": {},
   "source": [
    "# Data Preparation"
   ]
  },
  {
   "cell_type": "code",
   "execution_count": 2,
   "metadata": {
    "execution": {
     "iopub.execute_input": "2022-03-05T18:15:59.518599Z",
     "iopub.status.busy": "2022-03-05T18:15:59.518244Z",
     "iopub.status.idle": "2022-03-05T18:15:59.586637Z",
     "shell.execute_reply": "2022-03-05T18:15:59.585992Z",
     "shell.execute_reply.started": "2022-03-05T18:15:59.518564Z"
    }
   },
   "outputs": [
    {
     "data": {
      "text/html": [
       "<div>\n",
       "<style scoped>\n",
       "    .dataframe tbody tr th:only-of-type {\n",
       "        vertical-align: middle;\n",
       "    }\n",
       "\n",
       "    .dataframe tbody tr th {\n",
       "        vertical-align: top;\n",
       "    }\n",
       "\n",
       "    .dataframe thead th {\n",
       "        text-align: right;\n",
       "    }\n",
       "</style>\n",
       "<table border=\"1\" class=\"dataframe\">\n",
       "  <thead>\n",
       "    <tr style=\"text-align: right;\">\n",
       "      <th></th>\n",
       "      <th>longitude</th>\n",
       "      <th>latitude</th>\n",
       "      <th>housing_median_age</th>\n",
       "      <th>total_rooms</th>\n",
       "      <th>total_bedrooms</th>\n",
       "      <th>population</th>\n",
       "      <th>households</th>\n",
       "      <th>median_income</th>\n",
       "      <th>median_house_value</th>\n",
       "      <th>ocean_proximity</th>\n",
       "    </tr>\n",
       "  </thead>\n",
       "  <tbody>\n",
       "    <tr>\n",
       "      <th>0</th>\n",
       "      <td>-122.23</td>\n",
       "      <td>37.88</td>\n",
       "      <td>41.0</td>\n",
       "      <td>880.0</td>\n",
       "      <td>129.0</td>\n",
       "      <td>322.0</td>\n",
       "      <td>126.0</td>\n",
       "      <td>8.3252</td>\n",
       "      <td>452600.0</td>\n",
       "      <td>NEAR BAY</td>\n",
       "    </tr>\n",
       "    <tr>\n",
       "      <th>1</th>\n",
       "      <td>-122.22</td>\n",
       "      <td>37.86</td>\n",
       "      <td>21.0</td>\n",
       "      <td>7099.0</td>\n",
       "      <td>1106.0</td>\n",
       "      <td>2401.0</td>\n",
       "      <td>1138.0</td>\n",
       "      <td>8.3014</td>\n",
       "      <td>358500.0</td>\n",
       "      <td>NEAR BAY</td>\n",
       "    </tr>\n",
       "    <tr>\n",
       "      <th>2</th>\n",
       "      <td>-122.24</td>\n",
       "      <td>37.85</td>\n",
       "      <td>52.0</td>\n",
       "      <td>1467.0</td>\n",
       "      <td>190.0</td>\n",
       "      <td>496.0</td>\n",
       "      <td>177.0</td>\n",
       "      <td>7.2574</td>\n",
       "      <td>352100.0</td>\n",
       "      <td>NEAR BAY</td>\n",
       "    </tr>\n",
       "    <tr>\n",
       "      <th>3</th>\n",
       "      <td>-122.25</td>\n",
       "      <td>37.85</td>\n",
       "      <td>52.0</td>\n",
       "      <td>1274.0</td>\n",
       "      <td>235.0</td>\n",
       "      <td>558.0</td>\n",
       "      <td>219.0</td>\n",
       "      <td>5.6431</td>\n",
       "      <td>341300.0</td>\n",
       "      <td>NEAR BAY</td>\n",
       "    </tr>\n",
       "    <tr>\n",
       "      <th>4</th>\n",
       "      <td>-122.25</td>\n",
       "      <td>37.85</td>\n",
       "      <td>52.0</td>\n",
       "      <td>1627.0</td>\n",
       "      <td>280.0</td>\n",
       "      <td>565.0</td>\n",
       "      <td>259.0</td>\n",
       "      <td>3.8462</td>\n",
       "      <td>342200.0</td>\n",
       "      <td>NEAR BAY</td>\n",
       "    </tr>\n",
       "  </tbody>\n",
       "</table>\n",
       "</div>"
      ],
      "text/plain": [
       "   longitude  latitude  housing_median_age  total_rooms  total_bedrooms  \\\n",
       "0    -122.23     37.88                41.0        880.0           129.0   \n",
       "1    -122.22     37.86                21.0       7099.0          1106.0   \n",
       "2    -122.24     37.85                52.0       1467.0           190.0   \n",
       "3    -122.25     37.85                52.0       1274.0           235.0   \n",
       "4    -122.25     37.85                52.0       1627.0           280.0   \n",
       "\n",
       "   population  households  median_income  median_house_value ocean_proximity  \n",
       "0       322.0       126.0         8.3252            452600.0        NEAR BAY  \n",
       "1      2401.0      1138.0         8.3014            358500.0        NEAR BAY  \n",
       "2       496.0       177.0         7.2574            352100.0        NEAR BAY  \n",
       "3       558.0       219.0         5.6431            341300.0        NEAR BAY  \n",
       "4       565.0       259.0         3.8462            342200.0        NEAR BAY  "
      ]
     },
     "execution_count": 2,
     "metadata": {},
     "output_type": "execute_result"
    }
   ],
   "source": [
    "df = pd.read_csv(\"housing.csv\")\n",
    "df.head()"
   ]
  },
  {
   "cell_type": "code",
   "execution_count": 3,
   "metadata": {
    "execution": {
     "iopub.execute_input": "2022-03-05T18:15:59.588471Z",
     "iopub.status.busy": "2022-03-05T18:15:59.587941Z",
     "iopub.status.idle": "2022-03-05T18:15:59.603561Z",
     "shell.execute_reply": "2022-03-05T18:15:59.602803Z",
     "shell.execute_reply.started": "2022-03-05T18:15:59.588436Z"
    }
   },
   "outputs": [
    {
     "name": "stdout",
     "output_type": "stream",
     "text": [
      "<class 'pandas.core.frame.DataFrame'>\n",
      "RangeIndex: 20640 entries, 0 to 20639\n",
      "Data columns (total 10 columns):\n",
      " #   Column              Non-Null Count  Dtype  \n",
      "---  ------              --------------  -----  \n",
      " 0   longitude           20640 non-null  float64\n",
      " 1   latitude            20640 non-null  float64\n",
      " 2   housing_median_age  20640 non-null  float64\n",
      " 3   total_rooms         20640 non-null  float64\n",
      " 4   total_bedrooms      20433 non-null  float64\n",
      " 5   population          20640 non-null  float64\n",
      " 6   households          20640 non-null  float64\n",
      " 7   median_income       20640 non-null  float64\n",
      " 8   median_house_value  20640 non-null  float64\n",
      " 9   ocean_proximity     20640 non-null  object \n",
      "dtypes: float64(9), object(1)\n",
      "memory usage: 1.6+ MB\n"
     ]
    }
   ],
   "source": [
    "df.info()"
   ]
  },
  {
   "cell_type": "markdown",
   "metadata": {},
   "source": [
    "# Handling Categorical Variables"
   ]
  },
  {
   "cell_type": "code",
   "execution_count": 4,
   "metadata": {
    "execution": {
     "iopub.execute_input": "2022-03-05T18:15:59.605526Z",
     "iopub.status.busy": "2022-03-05T18:15:59.605094Z",
     "iopub.status.idle": "2022-03-05T18:15:59.611317Z",
     "shell.execute_reply": "2022-03-05T18:15:59.610631Z",
     "shell.execute_reply.started": "2022-03-05T18:15:59.605494Z"
    }
   },
   "outputs": [
    {
     "data": {
      "text/plain": [
       "['ocean_proximity']"
      ]
     },
     "execution_count": 4,
     "metadata": {},
     "output_type": "execute_result"
    }
   ],
   "source": [
    "cat_cols = [col for col in df.columns if df[col].dtype == 'object']\n",
    "cat_cols"
   ]
  },
  {
   "cell_type": "code",
   "execution_count": 5,
   "metadata": {
    "execution": {
     "iopub.execute_input": "2022-03-05T18:15:59.614566Z",
     "iopub.status.busy": "2022-03-05T18:15:59.614021Z",
     "iopub.status.idle": "2022-03-05T18:15:59.633860Z",
     "shell.execute_reply": "2022-03-05T18:15:59.632795Z",
     "shell.execute_reply.started": "2022-03-05T18:15:59.614528Z"
    }
   },
   "outputs": [],
   "source": [
    "from sklearn.preprocessing import LabelEncoder\n",
    "lb = LabelEncoder()\n",
    "df.loc[:, cat_cols] = lb.fit_transform(np.array(df.loc[:, cat_cols]).reshape(-1, ))"
   ]
  },
  {
   "cell_type": "markdown",
   "metadata": {},
   "source": [
    "# Handling Missing Values"
   ]
  },
  {
   "cell_type": "markdown",
   "metadata": {},
   "source": [
    "Will use knn imputer to impute missing values"
   ]
  },
  {
   "cell_type": "code",
   "execution_count": 6,
   "metadata": {
    "execution": {
     "iopub.execute_input": "2022-03-05T18:16:01.119105Z",
     "iopub.status.busy": "2022-03-05T18:16:01.118777Z",
     "iopub.status.idle": "2022-03-05T18:16:01.124024Z",
     "shell.execute_reply": "2022-03-05T18:16:01.123054Z",
     "shell.execute_reply.started": "2022-03-05T18:16:01.119077Z"
    }
   },
   "outputs": [],
   "source": [
    "from sklearn.impute import KNNImputer\n",
    "knn = KNNImputer(n_neighbors = 3)"
   ]
  },
  {
   "cell_type": "code",
   "execution_count": 7,
   "metadata": {
    "execution": {
     "iopub.execute_input": "2022-03-05T18:16:01.125690Z",
     "iopub.status.busy": "2022-03-05T18:16:01.125437Z",
     "iopub.status.idle": "2022-03-05T18:16:01.517046Z",
     "shell.execute_reply": "2022-03-05T18:16:01.516174Z",
     "shell.execute_reply.started": "2022-03-05T18:16:01.125659Z"
    }
   },
   "outputs": [],
   "source": [
    "knn_imputer = KNNImputer(n_neighbors = 3)\n",
    "\n",
    "df_pre1 = df.copy()\n",
    "\n",
    "X = np.round(knn_imputer.fit_transform(df_pre1))\n",
    "df_pre1 = pd.DataFrame(X, columns = df_pre1.columns)"
   ]
  },
  {
   "cell_type": "code",
   "execution_count": 8,
   "metadata": {
    "execution": {
     "iopub.execute_input": "2022-03-05T18:16:01.533786Z",
     "iopub.status.busy": "2022-03-05T18:16:01.532971Z",
     "iopub.status.idle": "2022-03-05T18:16:01.540107Z",
     "shell.execute_reply": "2022-03-05T18:16:01.539279Z",
     "shell.execute_reply.started": "2022-03-05T18:16:01.533751Z"
    }
   },
   "outputs": [],
   "source": [
    "X = np.array(df_pre1.drop('median_house_value', axis = 1))\n",
    "y = np.array(df_pre1['median_house_value'])"
   ]
  },
  {
   "cell_type": "markdown",
   "metadata": {},
   "source": [
    "# Feature Scaling "
   ]
  },
  {
   "cell_type": "code",
   "execution_count": 9,
   "metadata": {
    "execution": {
     "iopub.execute_input": "2022-03-05T18:16:01.553452Z",
     "iopub.status.busy": "2022-03-05T18:16:01.552750Z",
     "iopub.status.idle": "2022-03-05T18:16:01.815553Z",
     "shell.execute_reply": "2022-03-05T18:16:01.814906Z",
     "shell.execute_reply.started": "2022-03-05T18:16:01.553419Z"
    }
   },
   "outputs": [],
   "source": [
    "from sklearn.preprocessing import PowerTransformer\n",
    "pt = PowerTransformer()\n",
    "X = pt.fit_transform(X)"
   ]
  },
  {
   "cell_type": "markdown",
   "metadata": {},
   "source": [
    "# Train test split"
   ]
  },
  {
   "cell_type": "code",
   "execution_count": 10,
   "metadata": {
    "execution": {
     "iopub.execute_input": "2022-03-05T18:16:01.817243Z",
     "iopub.status.busy": "2022-03-05T18:16:01.816956Z",
     "iopub.status.idle": "2022-03-05T18:16:01.825571Z",
     "shell.execute_reply": "2022-03-05T18:16:01.824377Z",
     "shell.execute_reply.started": "2022-03-05T18:16:01.817190Z"
    }
   },
   "outputs": [],
   "source": [
    "from sklearn.model_selection import train_test_split\n",
    "X_train, X_test, y_train, y_test = train_test_split(X, y, test_size = 0.2, random_state = 11)"
   ]
  },
  {
   "cell_type": "markdown",
   "metadata": {},
   "source": [
    "# Linear Regression \n"
   ]
  },
  {
   "cell_type": "code",
   "execution_count": 11,
   "metadata": {
    "execution": {
     "iopub.execute_input": "2022-03-05T18:16:01.827307Z",
     "iopub.status.busy": "2022-03-05T18:16:01.827047Z",
     "iopub.status.idle": "2022-03-05T18:16:01.852015Z",
     "shell.execute_reply": "2022-03-05T18:16:01.851073Z",
     "shell.execute_reply.started": "2022-03-05T18:16:01.827276Z"
    }
   },
   "outputs": [
    {
     "name": "stdout",
     "output_type": "stream",
     "text": [
      "Mean Squared Error For Linear Regression Model is : 5313372373.377045\n",
      "Root Mean Square Error For Linear Regression Model is : 72892.88287190351\n"
     ]
    }
   ],
   "source": [
    "from sklearn.linear_model import LinearRegression\n",
    "from sklearn import metrics\n",
    "\n",
    "lr = LinearRegression()\n",
    "lr.fit(X_train, y_train)\n",
    "\n",
    "print(\"Mean Squared Error For Linear Regression Model is : {}\".format(metrics.mean_squared_error(y_test, lr.predict(X_test))))\n",
    "print(\"Root Mean Square Error For Linear Regression Model is : {}\".format(np.sqrt(metrics.mean_squared_error(y_test, lr.predict(X_test)))))"
   ]
  },
  {
   "cell_type": "markdown",
   "metadata": {},
   "source": [
    "# Support Vector Machine"
   ]
  },
  {
   "cell_type": "code",
   "execution_count": 12,
   "metadata": {
    "execution": {
     "iopub.execute_input": "2022-03-05T18:16:01.854476Z",
     "iopub.status.busy": "2022-03-05T18:16:01.853519Z",
     "iopub.status.idle": "2022-03-05T18:16:30.170959Z",
     "shell.execute_reply": "2022-03-05T18:16:30.169948Z",
     "shell.execute_reply.started": "2022-03-05T18:16:01.854421Z"
    }
   },
   "outputs": [
    {
     "name": "stdout",
     "output_type": "stream",
     "text": [
      "Mean Squared Error For Support Vector Machine Model is : 14386136929.285517\n",
      "Root Mean Square Error For Support Vector Machine Model is : 119942.2232964085\n"
     ]
    }
   ],
   "source": [
    "from sklearn.svm import SVR\n",
    "from sklearn import metrics\n",
    "\n",
    "svr = SVR()\n",
    "svr.fit(X_train, y_train)\n",
    "\n",
    "print(\"Mean Squared Error For Support Vector Machine Model is : {}\".format(metrics.mean_squared_error(y_test, svr.predict(X_test))))\n",
    "print(\"Root Mean Square Error For Support Vector Machine Model is : {}\".format(np.sqrt(metrics.mean_squared_error(y_test, svr.predict(X_test)))))"
   ]
  },
  {
   "cell_type": "markdown",
   "metadata": {},
   "source": [
    "# Decision Tree Regressor"
   ]
  },
  {
   "cell_type": "code",
   "execution_count": 13,
   "metadata": {
    "execution": {
     "iopub.execute_input": "2022-03-05T18:16:30.172930Z",
     "iopub.status.busy": "2022-03-05T18:16:30.172440Z",
     "iopub.status.idle": "2022-03-05T18:16:30.310197Z",
     "shell.execute_reply": "2022-03-05T18:16:30.309296Z",
     "shell.execute_reply.started": "2022-03-05T18:16:30.172897Z"
    }
   },
   "outputs": [
    {
     "name": "stdout",
     "output_type": "stream",
     "text": [
      "Mean Squared Error For Decision Tree Model is : 6398478285.84811\n",
      "Root Mean Square Error For Decision Tree Model is : 79990.48872114802\n"
     ]
    }
   ],
   "source": [
    "from sklearn.tree import DecisionTreeRegressor\n",
    "from sklearn import metrics\n",
    "\n",
    "dt = DecisionTreeRegressor()\n",
    "dt.fit(X_train, y_train)\n",
    "\n",
    "print(\"Mean Squared Error For Decision Tree Model is : {}\".format(metrics.mean_squared_error(y_test, dt.predict(X_test))))\n",
    "print(\"Root Mean Square Error For Decision Tree Model is : {}\".format(np.sqrt(metrics.mean_squared_error(y_test, dt.predict(X_test)))))"
   ]
  }
 ],
 "metadata": {
  "kernelspec": {
   "display_name": "Python 3 (ipykernel)",
   "language": "python",
   "name": "python3"
  },
  "language_info": {
   "codemirror_mode": {
    "name": "ipython",
    "version": 3
   },
   "file_extension": ".py",
   "mimetype": "text/x-python",
   "name": "python",
   "nbconvert_exporter": "python",
   "pygments_lexer": "ipython3",
   "version": "3.9.6"
  }
 },
 "nbformat": 4,
 "nbformat_minor": 4
}
